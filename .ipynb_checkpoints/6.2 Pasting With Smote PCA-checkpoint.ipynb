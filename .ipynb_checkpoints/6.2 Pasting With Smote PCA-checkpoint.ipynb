{
 "cells": [
  {
   "cell_type": "markdown",
   "metadata": {},
   "source": [
    "## Pasting"
   ]
  },
  {
   "cell_type": "code",
   "execution_count": 1,
   "metadata": {},
   "outputs": [
    {
     "name": "stdout",
     "output_type": "stream",
     "text": [
      "Using matplotlib backend: Qt5Agg\n",
      "Populating the interactive namespace from numpy and matplotlib\n"
     ]
    }
   ],
   "source": [
    "# Importamos las librerías necesarias\n",
    "\n",
    "import numpy as np\n",
    "import pandas as pd\n",
    "from sklearn.ensemble import BaggingClassifier\n",
    "from sklearn.model_selection import GridSearchCV\n",
    "from sklearn.linear_model import LogisticRegression\n",
    "from sklearn.tree import DecisionTreeClassifier\n",
    "from sklearn.ensemble import RandomForestClassifier\n",
    "from sklearn.metrics import accuracy_score, auc, confusion_matrix, f1_score, precision_score, recall_score, roc_curve\n",
    "from sklearn.model_selection import train_test_split\n",
    "from sklearn.preprocessing import MinMaxScaler\n",
    "import matplotlib.pyplot as plt\n",
    "from sklearn.decomposition import PCA\n",
    "\n",
    "# Representaciones graficas locales\n",
    "\n",
    "%pylab\n",
    "%matplotlib inline\n",
    "\n",
    "%config InlineBackend.figure_format = 'retina'\n",
    "\n",
    "# Obviamos los errores de actualización \n",
    "\n",
    "import warnings\n",
    "warnings.filterwarnings('ignore')\n",
    "pd.set_option('display.max_columns', 50)\n",
    "\n",
    "# Ponemos la semilla\n",
    "np.random.seed(0)"
   ]
  },
  {
   "cell_type": "code",
   "execution_count": 2,
   "metadata": {},
   "outputs": [],
   "source": [
    "# Importamos la función de limpieza y preprocesado de datos\n",
    "import frauddef # con solo las variables de research"
   ]
  },
  {
   "cell_type": "code",
   "execution_count": 3,
   "metadata": {
    "scrolled": true
   },
   "outputs": [],
   "source": [
    "# Importamos el dataset \n",
    "df = pd.read_csv('Explor_uscecchini28.csv')"
   ]
  },
  {
   "cell_type": "code",
   "execution_count": 4,
   "metadata": {},
   "outputs": [
    {
     "name": "stderr",
     "output_type": "stream",
     "text": [
      "Using TensorFlow backend.\n"
     ]
    }
   ],
   "source": [
    "# Establecemos las variables X e Y\n",
    "X_train_nm, X_test_nm, y_train_nm, y_test_nm, X_train_sm, X_test_sm, y_train_sm, y_test_sm = frauddef.limpieza(df)"
   ]
  },
  {
   "cell_type": "code",
   "execution_count": 5,
   "metadata": {},
   "outputs": [
    {
     "name": "stdout",
     "output_type": "stream",
     "text": [
      "Number of PCA components:  3\n"
     ]
    }
   ],
   "source": [
    "# ajustamos el parametro \"n_components\" que nos a indicar cuantos componentes necesitamos para explicar el 95 % de los datos\n",
    "pca = PCA(n_components=0.95)\n",
    "\n",
    "# hacemos la transofrmación del Train y Test\n",
    "X_train_sm = pca.fit_transform(X_train_sm)\n",
    "X_test_sm = pca.transform(X_test_sm)\n",
    "\n",
    "# Selección del número de n_components\n",
    "print(\"Number of PCA components: \", pca.n_components_)"
   ]
  },
  {
   "cell_type": "markdown",
   "metadata": {},
   "source": [
    "##### Logistic Regression with Pasting"
   ]
  },
  {
   "cell_type": "code",
   "execution_count": 6,
   "metadata": {},
   "outputs": [
    {
     "data": {
      "text/plain": [
       "GridSearchCV(cv=2, estimator=LogisticRegression(), n_jobs=-1,\n",
       "             param_grid={'C': array([1.e-03, 1.e-02, 1.e-01, 1.e+00, 1.e+01, 1.e+02, 1.e+03]),\n",
       "                         'penalty': ['l1', 'l2']},\n",
       "             return_train_score=True)"
      ]
     },
     "execution_count": 6,
     "metadata": {},
     "output_type": "execute_result"
    }
   ],
   "source": [
    "lr = LogisticRegression()# l1 lasso l2 ridge)\n",
    "\n",
    "#model param\n",
    "param = dict(penalty = [\"l1\",\"l2\"], C= np.logspace(-3,3,7))# l1 lasso l2 ridge\n",
    "\n",
    "#grid model\n",
    "lr_grid = GridSearchCV(lr, param, cv = 2, n_jobs = -1, return_train_score= True)\n",
    "\n",
    "#train grid model\n",
    "lr_grid.fit(X_train_sm, y_train_sm)"
   ]
  },
  {
   "cell_type": "code",
   "execution_count": 7,
   "metadata": {},
   "outputs": [
    {
     "name": "stdout",
     "output_type": "stream",
     "text": [
      "Best Parameters for Bagging Classifier with Pasting:  {'C': 0.001, 'penalty': 'l2'}\n"
     ]
    }
   ],
   "source": [
    "# Mejores parámetros\n",
    "print(\"Best Parameters for Bagging Classifier with Pasting: \", lr_grid.best_params_)"
   ]
  },
  {
   "cell_type": "code",
   "execution_count": 8,
   "metadata": {},
   "outputs": [
    {
     "data": {
      "text/plain": [
       "GridSearchCV(cv=2,\n",
       "             estimator=BaggingClassifier(base_estimator=LogisticRegression()),\n",
       "             n_jobs=-1,\n",
       "             param_grid={'max_samples': [0.1, 0.5, 0.7, 0.9, 1.0],\n",
       "                         'n_estimators': [100, 250, 500, 1000]},\n",
       "             return_train_score=True)"
      ]
     },
     "execution_count": 8,
     "metadata": {},
     "output_type": "execute_result"
    }
   ],
   "source": [
    "# Construcción del modelo \n",
    "\n",
    "bag = BaggingClassifier(lr)\n",
    "\n",
    "grid_param = dict(max_samples=[0.1, 0.5, 0.7, 0.9, 1.0],\n",
    "                  n_estimators= [100,250, 500, 1000])\n",
    "\n",
    "#grid model\n",
    "bag_lr_grid = GridSearchCV(bag, grid_param, cv = 2, n_jobs = -1, return_train_score= True)\n",
    "\n",
    "#train grid model\n",
    "bag_lr_grid.fit(X_train_sm, y_train_sm)"
   ]
  },
  {
   "cell_type": "code",
   "execution_count": 9,
   "metadata": {
    "scrolled": true
   },
   "outputs": [
    {
     "name": "stdout",
     "output_type": "stream",
     "text": [
      "Best Parameters for Bagging Classifier with Pasting:  {'max_samples': 0.9, 'n_estimators': 250}\n"
     ]
    }
   ],
   "source": [
    "# Mejores parámetros\n",
    "print(\"Best Parameters for Bagging Classifier with Pasting: \", bag_lr_grid.best_params_)"
   ]
  },
  {
   "cell_type": "code",
   "execution_count": 10,
   "metadata": {},
   "outputs": [
    {
     "data": {
      "text/plain": [
       "BaggingClassifier(base_estimator=LogisticRegression(), bootstrap=False,\n",
       "                  max_samples=0.9, n_estimators=250)"
      ]
     },
     "execution_count": 10,
     "metadata": {},
     "output_type": "execute_result"
    }
   ],
   "source": [
    "# Construcción del modelo \n",
    "\n",
    "bag = BaggingClassifier(lr, n_estimators= bag_lr_grid.best_params_['n_estimators']\n",
    "                        , max_samples=bag_lr_grid.best_params_['max_samples']\n",
    "                        , bootstrap=False) # bootstrap=False Para Pasting\n",
    "\n",
    "bag.fit(X_train_sm, y_train_sm)"
   ]
  },
  {
   "cell_type": "code",
   "execution_count": null,
   "metadata": {},
   "outputs": [],
   "source": []
  },
  {
   "cell_type": "code",
   "execution_count": 11,
   "metadata": {},
   "outputs": [
    {
     "name": "stdout",
     "output_type": "stream",
     "text": [
      "Logistic Regression with Pasting Training Score:  0.6341407938132605\n",
      "Logistic Regression with Pasting Testing Score:  0.6187317590872911\n",
      "- Nombre del Modelo: BaggingClassifier \n",
      " \n",
      " - Precisión: 0.6187317590872911 | \n",
      " - Exactitud: 0.7627302275189599 | \n",
      " - Exhaustividad: 0.36628511966701355 | \n",
      " - F1: 0.49490333919156426 | \n",
      " - AUC: 0.6238572322753043 |\n",
      " \n",
      " - Matriz de confusion: \n",
      " [[1628  219]\n",
      " [1218  704]] \n",
      "\n"
     ]
    },
    {
     "data": {
      "text/plain": [
       "Text(0.5, 1.0, 'AUC = 0.62')"
      ]
     },
     "execution_count": 11,
     "metadata": {},
     "output_type": "execute_result"
    },
    {
     "data": {
      "image/png": "[encoded data removed]",
      "text/plain": [
       "<Figure size 432x288 with 1 Axes>"
      ]
     },
     "metadata": {
      "image/png": {
       "height": 263,
       "width": 372
      },
      "needs_background": "light"
     },
     "output_type": "display_data"
    }
   ],
   "source": [
    "# Medición del rendimiento de los modelos; exactitud, exhaustividad, F1, Auc y matriz de confusión.\n",
    "print(\"Logistic Regression with Pasting Training Score: \", bag.score(X_train_sm, y_train_sm))\n",
    "print(\"Logistic Regression with Pasting Testing Score: \", bag.score(X_test_sm, y_test_sm))\n",
    "\n",
    "y_test_pred = bag.predict(X_test_sm)\n",
    "y_train_pred = bag.predict(X_train_sm)\n",
    "cm = confusion_matrix(y_test_sm, y_test_pred)\n",
    "false_positive_rate, recall, thresholds = roc_curve(y_test_sm, y_test_pred) # el area bajo la curva\n",
    "roc_auc = auc(false_positive_rate, recall)\n",
    "    \n",
    "print(\"- Nombre del Modelo: {} \\n\" .format(bag.__class__.__name__) , \"\\n - Precisión: {} |\" \n",
    "        .format(accuracy_score(y_test_sm, y_test_pred)), \n",
    "        \"\\n - Exactitud: {} |\" .format(precision_score(y_test_sm, y_test_pred)), \n",
    "        \"\\n - Exhaustividad: {} |\" .format(recall_score(y_test_sm, y_test_pred)), \n",
    "        \"\\n - F1: {} |\" .format(f1_score(y_test_sm, y_test_pred)), \n",
    "        \"\\n - AUC: {} |\\n\" .format(auc(false_positive_rate, recall)),\n",
    "        \"\\n - Matriz de confusion: \\n {} \\n\" .format(cm))\n",
    "    \n",
    "plot(false_positive_rate, recall, 'b') # imprimir el ratio\n",
    "plot([0, 1], [0, 1], 'r--') # difinir el ratio entre 0 y 1\n",
    "title('AUC = %0.2f' % roc_auc)"
   ]
  },
  {
   "cell_type": "code",
   "execution_count": 12,
   "metadata": {},
   "outputs": [],
   "source": [
    "# Guardamos la Medición del rendimiento de los modelos en una tabla.\n",
    "report_table_1 = ['Logistic Regression with Pasting Smote PCA', lr_grid.best_params_,\n",
    "                  bag.score(X_train_sm, y_train_sm), bag.score(X_test_sm, y_test_sm), recall_score(y_test_sm, y_test_pred),\n",
    "                 f1_score(y_test_sm, y_test_pred), auc(false_positive_rate, recall)]"
   ]
  },
  {
   "cell_type": "markdown",
   "metadata": {},
   "source": [
    "##### Decision Tree with Pasting\n",
    "\n",
    "En los árboles de decisión se construyen diagramas de construcciones lógicas, muy similares a los sistemas de predicción basados en reglas, que sirven para representar y categorizar una serie de condiciones que ocurren de forma sucesiva, para la resolución de un problema."
   ]
  },
  {
   "cell_type": "code",
   "execution_count": 13,
   "metadata": {},
   "outputs": [
    {
     "data": {
      "text/plain": [
       "GridSearchCV(cv=2, estimator=DecisionTreeClassifier(), n_jobs=-1,\n",
       "             param_grid={'criterion': ['gini', 'entropy'],\n",
       "                         'max_depth': array([ 1,  2,  3,  4,  5,  6,  7,  8,  9, 10, 11, 12, 13, 14])})"
      ]
     },
     "execution_count": 13,
     "metadata": {},
     "output_type": "execute_result"
    }
   ],
   "source": [
    "# Selección del parámetro “max_depth” de DT con la función \"GridSearchCV\"\n",
    "dt = DecisionTreeClassifier()\n",
    "grid_param = dict(criterion=['gini','entropy'],max_depth= np.arange(1, 15))\n",
    "\n",
    "dt_grid = GridSearchCV(dt, grid_param, cv = 2, n_jobs = -1)\n",
    "dt_grid.fit(X_train_sm, y_train_sm)"
   ]
  },
  {
   "cell_type": "code",
   "execution_count": 14,
   "metadata": {},
   "outputs": [
    {
     "name": "stdout",
     "output_type": "stream",
     "text": [
      "Best Parameters for Decision Tree Classifier:  {'criterion': 'gini', 'max_depth': 13}\n"
     ]
    }
   ],
   "source": [
    "# Mejor parámetro\n",
    "print(\"Best Parameters for Decision Tree Classifier: \", dt_grid.best_params_)"
   ]
  },
  {
   "cell_type": "code",
   "execution_count": 15,
   "metadata": {},
   "outputs": [
    {
     "data": {
      "text/plain": [
       "GridSearchCV(cv=2,\n",
       "             estimator=BaggingClassifier(base_estimator=DecisionTreeClassifier(max_depth=13)),\n",
       "             n_jobs=-1, param_grid={}, return_train_score=True)"
      ]
     },
     "execution_count": 15,
     "metadata": {},
     "output_type": "execute_result"
    }
   ],
   "source": [
    "# Selección de los parámetros 'n_estimators' y 'learning_rate' de DT con la función \"GridSearchCV\"\n",
    "\n",
    "dt = DecisionTreeClassifier(max_depth= dt_grid.best_params_['max_depth']\n",
    "                                ,criterion= dt_grid.best_params_['criterion'])\n",
    "\n",
    "bag = BaggingClassifier(dt)\n",
    "#model param\n",
    "grid_param = dict()\n",
    "#grid model\n",
    "bag_dt_grid = GridSearchCV(bag, grid_param, cv = 2, n_jobs = -1, return_train_score= True)\n",
    "\n",
    "#train grid model\n",
    "bag_dt_grid.fit(X_train_sm, y_train_sm)"
   ]
  },
  {
   "cell_type": "code",
   "execution_count": 16,
   "metadata": {},
   "outputs": [
    {
     "name": "stdout",
     "output_type": "stream",
     "text": [
      "Best Parameters for Bagging Classifier with Pasting:  {}\n"
     ]
    }
   ],
   "source": [
    "# Mejores parámetros\n",
    "print(\"Best Parameters for Bagging Classifier with Pasting: \", bag_dt_grid.best_params_)"
   ]
  },
  {
   "cell_type": "code",
   "execution_count": 17,
   "metadata": {},
   "outputs": [
    {
     "data": {
      "text/plain": [
       "BaggingClassifier(base_estimator=DecisionTreeClassifier(max_depth=13),\n",
       "                  bootstrap=False)"
      ]
     },
     "execution_count": 17,
     "metadata": {},
     "output_type": "execute_result"
    }
   ],
   "source": [
    "# Construcción del modelo \n",
    "bag = BaggingClassifier(dt, bootstrap=False) # bootstrap=False Para Pasting\n",
    "\n",
    "bag.fit(X_train_sm, y_train_sm)"
   ]
  },
  {
   "cell_type": "code",
   "execution_count": 18,
   "metadata": {},
   "outputs": [
    {
     "name": "stdout",
     "output_type": "stream",
     "text": [
      "Decision Tree Classifier with Pasting Training Score:  0.962128966223132\n",
      "Decision Tree Classifier with Passting Testing Score:  0.8906871849296896\n",
      "- Nombre del Modelo: DecisionTreeClassifier \n",
      " \n",
      " - Precisión: 0.8906871849296896 | \n",
      " - Exactitud: 0.8771228771228772 | \n",
      " - Exhaustividad: 0.9136316337148803 | \n",
      " - F1: 0.8950050968399592 | \n",
      " - AUC: 0.8902213393263085 |\n",
      " \n",
      " - Matriz de confusion: \n",
      " [[1601  246]\n",
      " [ 166 1756]] \n",
      "\n"
     ]
    },
    {
     "data": {
      "text/plain": [
       "Text(0.5, 1.0, 'AUC = 0.89')"
      ]
     },
     "execution_count": 18,
     "metadata": {},
     "output_type": "execute_result"
    },
    {
     "data": {
      "image/png": "[encoded data removed]",
      "text/plain": [
       "<Figure size 432x288 with 1 Axes>"
      ]
     },
     "metadata": {
      "image/png": {
       "height": 263,
       "width": 372
      },
      "needs_background": "light"
     },
     "output_type": "display_data"
    }
   ],
   "source": [
    "# Medición del rendimiento de los modelos; exactitud, exhaustividad, F1, Auc y matriz de confusión.\n",
    "print(\"Decision Tree Classifier with Pasting Training Score: \", bag.score(X_train_sm, y_train_sm))\n",
    "print(\"Decision Tree Classifier with Passting Testing Score: \", bag.score(X_test_sm, y_test_sm))\n",
    "\n",
    "y_test_pred = bag.predict(X_test_sm)\n",
    "y_train_pred = bag.predict(X_train_sm)\n",
    "cm = confusion_matrix(y_test_sm, y_test_pred)\n",
    "false_positive_rate, recall, thresholds = roc_curve(y_test_sm, y_test_pred) # el area bajo la curva\n",
    "roc_auc = auc(false_positive_rate, recall)\n",
    "    \n",
    "print(\"- Nombre del Modelo: {} \\n\" .format(dt.__class__.__name__) , \"\\n - Precisión: {} |\" \n",
    "        .format(accuracy_score(y_test_sm, y_test_pred)), \n",
    "        \"\\n - Exactitud: {} |\" .format(precision_score(y_test_sm, y_test_pred)), \n",
    "        \"\\n - Exhaustividad: {} |\" .format(recall_score(y_test_sm, y_test_pred)), \n",
    "        \"\\n - F1: {} |\" .format(f1_score(y_test_sm, y_test_pred)), \n",
    "        \"\\n - AUC: {} |\\n\" .format(auc(false_positive_rate, recall)),\n",
    "        \"\\n - Matriz de confusion: \\n {} \\n\" .format(cm))\n",
    "    \n",
    "plot(false_positive_rate, recall, 'b') # imprimir el ratio\n",
    "plot([0, 1], [0, 1], 'r--') # difinir el ratio entre 0 y 1\n",
    "title('AUC = %0.2f' % roc_auc)"
   ]
  },
  {
   "cell_type": "code",
   "execution_count": 19,
   "metadata": {},
   "outputs": [],
   "source": [
    "# Guardamos la Medición del rendimiento de los modelos en una tabla.\n",
    "report_table_2 = ['Decision Tree Classifier with Pasting Smote PCA', dt_grid.best_params_,\n",
    "                  bag.score(X_train_sm, y_train_sm), bag.score(X_test_sm, y_test_sm), recall_score(y_test_sm, y_test_pred),\n",
    "                 f1_score(y_test_sm, y_test_pred), auc(false_positive_rate, recall)]"
   ]
  },
  {
   "cell_type": "markdown",
   "metadata": {},
   "source": [
    "##### Random Forest Classifier with Pasting"
   ]
  },
  {
   "cell_type": "code",
   "execution_count": 20,
   "metadata": {},
   "outputs": [
    {
     "data": {
      "text/plain": [
       "GridSearchCV(cv=2, estimator=RandomForestClassifier(), n_jobs=-1,\n",
       "             param_grid={'criterion': ['gini', 'entropy'],\n",
       "                         'max_depth': [1, 3, 5, 7, 9, 15],\n",
       "                         'n_estimators': [100, 250, 500]})"
      ]
     },
     "execution_count": 20,
     "metadata": {},
     "output_type": "execute_result"
    }
   ],
   "source": [
    "# Selección del parámetro “max_depth” de RF con la función \"GridSearchCV\"\n",
    "rf = RandomForestClassifier()\n",
    "\n",
    "grid_param = dict(max_depth=[1,3,5,7,9,15], \n",
    "                  n_estimators= [100,250,500],criterion=['gini', 'entropy'])\n",
    "\n",
    "rf_grid = GridSearchCV(rf, grid_param, cv = 2, n_jobs = -1)\n",
    "rf_grid.fit(X_train_sm, y_train_sm)"
   ]
  },
  {
   "cell_type": "code",
   "execution_count": 21,
   "metadata": {},
   "outputs": [
    {
     "name": "stdout",
     "output_type": "stream",
     "text": [
      "Best Parameters for Random Forest Classifier:  {'criterion': 'entropy', 'max_depth': 15, 'n_estimators': 250}\n"
     ]
    }
   ],
   "source": [
    "print(\"Best Parameters for Random Forest Classifier: \", rf_grid.best_params_)"
   ]
  },
  {
   "cell_type": "code",
   "execution_count": 22,
   "metadata": {},
   "outputs": [
    {
     "data": {
      "text/plain": [
       "GridSearchCV(cv=2,\n",
       "             estimator=RandomForestClassifier(criterion='entropy', max_depth=15,\n",
       "                                              n_estimators=250),\n",
       "             n_jobs=-1, param_grid={}, return_train_score=True)"
      ]
     },
     "execution_count": 22,
     "metadata": {},
     "output_type": "execute_result"
    }
   ],
   "source": [
    "# Selección de los parámetros 'n_estimators' y 'learning_rate' de RF con la función \"GridSearchCV\"\n",
    "\n",
    "rf = RandomForestClassifier(n_estimators= rf_grid.best_params_['n_estimators']\n",
    "                                , max_depth= rf_grid.best_params_['max_depth']\n",
    "                                ,criterion = rf_grid.best_params_['criterion'])\n",
    "\n",
    "#model param\n",
    "grid_param = dict() \n",
    "\n",
    "#grid model\n",
    "bag_rf_grid = GridSearchCV(rf, grid_param, cv = 2, n_jobs = -1, return_train_score= True)\n",
    "\n",
    "#train grid model\n",
    "bag_rf_grid.fit(X_train_sm, y_train_sm)"
   ]
  },
  {
   "cell_type": "code",
   "execution_count": 23,
   "metadata": {
    "scrolled": true
   },
   "outputs": [
    {
     "name": "stdout",
     "output_type": "stream",
     "text": [
      "Best Parameters for Bagging Classifier with Pasting:  {}\n"
     ]
    }
   ],
   "source": [
    "# Mejores parámetros\n",
    "print(\"Best Parameters for Bagging Classifier with Pasting: \", bag_rf_grid.best_params_)"
   ]
  },
  {
   "cell_type": "code",
   "execution_count": 24,
   "metadata": {},
   "outputs": [
    {
     "data": {
      "text/plain": [
       "BaggingClassifier(base_estimator=DecisionTreeClassifier(max_depth=13),\n",
       "                  bootstrap=False)"
      ]
     },
     "execution_count": 24,
     "metadata": {},
     "output_type": "execute_result"
    }
   ],
   "source": [
    "# Construcción del modelo \n",
    "\n",
    "bag = BaggingClassifier(dt, bootstrap=False) # bootstrap=False Para Pasting\n",
    "bag.fit(X_train_sm, y_train_sm)"
   ]
  },
  {
   "cell_type": "code",
   "execution_count": 25,
   "metadata": {},
   "outputs": [
    {
     "name": "stdout",
     "output_type": "stream",
     "text": [
      "Random Forest Classifier with Pasting Training Score:  0.9623564198794495\n",
      "Random Forest Classifier with Pasting Testing Score:  0.8896258954629875\n",
      "- Nombre del Modelo: RandomForestClassifier \n",
      " \n",
      " - Precisión: 0.8896258954629875 | \n",
      " - Exactitud: 0.8753738783649053 | \n",
      " - Exhaustividad: 0.9136316337148803 | \n",
      " - F1: 0.8940936863543789 | \n",
      " - AUC: 0.8891385022932821 |\n",
      " \n",
      " - Matriz de confusion: \n",
      " [[1597  250]\n",
      " [ 166 1756]] \n",
      "\n"
     ]
    },
    {
     "data": {
      "text/plain": [
       "Text(0.5, 1.0, 'AUC = 0.89')"
      ]
     },
     "execution_count": 25,
     "metadata": {},
     "output_type": "execute_result"
    },
    {
     "data": {
      "image/png": "[encoded data removed]",
      "text/plain": [
       "<Figure size 432x288 with 1 Axes>"
      ]
     },
     "metadata": {
      "image/png": {
       "height": 263,
       "width": 372
      },
      "needs_background": "light"
     },
     "output_type": "display_data"
    }
   ],
   "source": [
    "# Medición del rendimiento de los modelos; exactitud, exhaustividad, F1, Auc y matriz de confusión.\n",
    "print(\"Random Forest Classifier with Pasting Training Score: \", bag.score(X_train_sm, y_train_sm))\n",
    "print(\"Random Forest Classifier with Pasting Testing Score: \", bag.score(X_test_sm, y_test_sm))\n",
    "\n",
    "y_test_pred = bag.predict(X_test_sm)\n",
    "y_train_pred = bag.predict(X_train_sm)\n",
    "cm = confusion_matrix(y_test_sm, y_test_pred)\n",
    "false_positive_rate, recall, thresholds = roc_curve(y_test_sm, y_test_pred) # el area bajo la curva\n",
    "roc_auc = auc(false_positive_rate, recall)\n",
    "    \n",
    "print(\"- Nombre del Modelo: {} \\n\" .format(rf.__class__.__name__) , \"\\n - Precisión: {} |\" \n",
    "        .format(accuracy_score(y_test_sm, y_test_pred)), \n",
    "        \"\\n - Exactitud: {} |\" .format(precision_score(y_test_sm, y_test_pred)), \n",
    "        \"\\n - Exhaustividad: {} |\" .format(recall_score(y_test_sm, y_test_pred)), \n",
    "        \"\\n - F1: {} |\" .format(f1_score(y_test_sm, y_test_pred)), \n",
    "        \"\\n - AUC: {} |\\n\" .format(auc(false_positive_rate, recall)),\n",
    "        \"\\n - Matriz de confusion: \\n {} \\n\" .format(cm))\n",
    "    \n",
    "plot(false_positive_rate, recall, 'b') # imprimir el ratio\n",
    "plot([0, 1], [0, 1], 'r--') # difinir el ratio entre 0 y 1\n",
    "title('AUC = %0.2f' % roc_auc)"
   ]
  },
  {
   "cell_type": "code",
   "execution_count": 26,
   "metadata": {},
   "outputs": [],
   "source": [
    "# Guardamos la Medición del rendimiento de los modelos en una tabla.\n",
    "report_table_3 = ['Random Forest with Pasting Smote PCA', rf_grid.best_params_,\n",
    "                  bag.score(X_train_sm, y_train_sm), bag.score(X_test_sm, y_test_sm), recall_score(y_test_sm, y_test_pred),\n",
    "                 f1_score(y_test_sm, y_test_pred), auc(false_positive_rate, recall)]"
   ]
  },
  {
   "cell_type": "code",
   "execution_count": 27,
   "metadata": {},
   "outputs": [],
   "source": [
    "# Mostrar la Medición del rendimiento de los modelos en una tabla.\n",
    "report_table = pd.DataFrame(list(zip(report_table_1,\n",
    "             report_table_2, report_table_3))).transpose()"
   ]
  },
  {
   "cell_type": "code",
   "execution_count": 28,
   "metadata": {},
   "outputs": [
    {
     "data": {
      "text/html": [
       "<div>\n",
       "<style scoped>\n",
       "    .dataframe tbody tr th:only-of-type {\n",
       "        vertical-align: middle;\n",
       "    }\n",
       "\n",
       "    .dataframe tbody tr th {\n",
       "        vertical-align: top;\n",
       "    }\n",
       "\n",
       "    .dataframe thead th {\n",
       "        text-align: right;\n",
       "    }\n",
       "</style>\n",
       "<table border=\"1\" class=\"dataframe\">\n",
       "  <thead>\n",
       "    <tr style=\"text-align: right;\">\n",
       "      <th></th>\n",
       "      <th>Model Name</th>\n",
       "      <th>Model Parameter</th>\n",
       "      <th>Training Score</th>\n",
       "      <th>Testing Score</th>\n",
       "      <th>Exhaustividad</th>\n",
       "      <th>F1</th>\n",
       "      <th>AUC</th>\n",
       "    </tr>\n",
       "    <tr>\n",
       "      <th>Model Name</th>\n",
       "      <th></th>\n",
       "      <th></th>\n",
       "      <th></th>\n",
       "      <th></th>\n",
       "      <th></th>\n",
       "      <th></th>\n",
       "      <th></th>\n",
       "    </tr>\n",
       "  </thead>\n",
       "  <tbody>\n",
       "    <tr>\n",
       "      <td>Logistic Regression with Pasting Smote PCA</td>\n",
       "      <td>Logistic Regression with Pasting Smote PCA</td>\n",
       "      <td>{'C': 0.001, 'penalty': 'l2'}</td>\n",
       "      <td>0.634141</td>\n",
       "      <td>0.618732</td>\n",
       "      <td>0.366285</td>\n",
       "      <td>0.494903</td>\n",
       "      <td>0.623857</td>\n",
       "    </tr>\n",
       "    <tr>\n",
       "      <td>Decision Tree Classifier with Pasting Smote PCA</td>\n",
       "      <td>Decision Tree Classifier with Pasting Smote PCA</td>\n",
       "      <td>{'criterion': 'gini', 'max_depth': 13}</td>\n",
       "      <td>0.962129</td>\n",
       "      <td>0.890687</td>\n",
       "      <td>0.913632</td>\n",
       "      <td>0.895005</td>\n",
       "      <td>0.890221</td>\n",
       "    </tr>\n",
       "    <tr>\n",
       "      <td>Random Forest with Pasting Smote PCA</td>\n",
       "      <td>Random Forest with Pasting Smote PCA</td>\n",
       "      <td>{'criterion': 'entropy', 'max_depth': 15, 'n_e...</td>\n",
       "      <td>0.962356</td>\n",
       "      <td>0.889626</td>\n",
       "      <td>0.913632</td>\n",
       "      <td>0.894094</td>\n",
       "      <td>0.889139</td>\n",
       "    </tr>\n",
       "  </tbody>\n",
       "</table>\n",
       "</div>"
      ],
      "text/plain": [
       "                                                                                      Model Name  \\\n",
       "Model Name                                                                                         \n",
       "Logistic Regression with Pasting Smote PCA            Logistic Regression with Pasting Smote PCA   \n",
       "Decision Tree Classifier with Pasting Smote PCA  Decision Tree Classifier with Pasting Smote PCA   \n",
       "Random Forest with Pasting Smote PCA                        Random Forest with Pasting Smote PCA   \n",
       "\n",
       "                                                                                   Model Parameter  \\\n",
       "Model Name                                                                                           \n",
       "Logistic Regression with Pasting Smote PCA                           {'C': 0.001, 'penalty': 'l2'}   \n",
       "Decision Tree Classifier with Pasting Smote PCA             {'criterion': 'gini', 'max_depth': 13}   \n",
       "Random Forest with Pasting Smote PCA             {'criterion': 'entropy', 'max_depth': 15, 'n_e...   \n",
       "\n",
       "                                                Training Score Testing Score  \\\n",
       "Model Name                                                                     \n",
       "Logistic Regression with Pasting Smote PCA            0.634141      0.618732   \n",
       "Decision Tree Classifier with Pasting Smote PCA       0.962129      0.890687   \n",
       "Random Forest with Pasting Smote PCA                  0.962356      0.889626   \n",
       "\n",
       "                                                Exhaustividad        F1  \\\n",
       "Model Name                                                                \n",
       "Logistic Regression with Pasting Smote PCA           0.366285  0.494903   \n",
       "Decision Tree Classifier with Pasting Smote PCA      0.913632  0.895005   \n",
       "Random Forest with Pasting Smote PCA                 0.913632  0.894094   \n",
       "\n",
       "                                                      AUC  \n",
       "Model Name                                                 \n",
       "Logistic Regression with Pasting Smote PCA       0.623857  \n",
       "Decision Tree Classifier with Pasting Smote PCA  0.890221  \n",
       "Random Forest with Pasting Smote PCA             0.889139  "
      ]
     },
     "execution_count": 28,
     "metadata": {},
     "output_type": "execute_result"
    }
   ],
   "source": [
    "report_table.columns = ['Model Name', 'Model Parameter', 'Training Score', 'Testing Score', \"Exhaustividad\", \"F1\", \"AUC\"]\n",
    "report_table.index = report_table['Model Name']\n",
    "report_table.head(15)"
   ]
  },
  {
   "cell_type": "code",
   "execution_count": 29,
   "metadata": {},
   "outputs": [],
   "source": [
    "# guardamos los resultados\n",
    "report_table.to_csv('Pasting With Smote PCA.csv')"
   ]
  },
  {
   "cell_type": "code",
   "execution_count": 30,
   "metadata": {},
   "outputs": [
    {
     "data": {
      "image/png": "[encoded data removed]",
      "text/plain": [
       "<Figure size 576x576 with 1 Axes>"
      ]
     },
     "metadata": {
      "image/png": {
       "height": 677,
       "width": 480
      },
      "needs_background": "light"
     },
     "output_type": "display_data"
    }
   ],
   "source": [
    "ax = report_table[['Model Name', 'Model Parameter', 'Training Score', 'Testing Score', \"Exhaustividad\", \"F1\", \"AUC\"]].plot(kind='bar',\n",
    "            title = \"Comparison of Accuracies of Different Models with Pasting\", figsize=(8, 8), fontsize = 8)\n",
    "plt.show()"
   ]
  },
  {
   "cell_type": "code",
   "execution_count": null,
   "metadata": {},
   "outputs": [],
   "source": []
  },
  {
   "cell_type": "code",
   "execution_count": null,
   "metadata": {},
   "outputs": [],
   "source": []
  }
 ],
 "metadata": {
  "kernelspec": {
   "display_name": "Python 3",
   "language": "python",
   "name": "python3"
  },
  "language_info": {
   "codemirror_mode": {
    "name": "ipython",
    "version": 3
   },
   "file_extension": ".py",
   "mimetype": "text/x-python",
   "name": "python",
   "nbconvert_exporter": "python",
   "pygments_lexer": "ipython3",
   "version": "3.7.4"
  }
 },
 "nbformat": 4,
 "nbformat_minor": 2
}
