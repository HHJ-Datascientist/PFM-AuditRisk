{
 "cells": [
  {
   "cell_type": "markdown",
   "metadata": {},
   "source": [
    "## 3. Pre-procesing \n",
    "\n",
    "- Solución para el desbalanceo de la variable dependiente probando: \n",
    "    - Oversampling\n",
    "    - Undersampling\n",
    "    \n",
    "\n",
    "- División del dataset en Train y Test\n",
    "- Crear la Función para el pre-proceso de datos.\n"
   ]
  },
  {
   "cell_type": "code",
   "execution_count": 15,
   "metadata": {},
   "outputs": [
    {
     "name": "stdout",
     "output_type": "stream",
     "text": [
      "Using matplotlib backend: Qt5Agg\n",
      "Populating the interactive namespace from numpy and matplotlib\n"
     ]
    },
    {
     "name": "stderr",
     "output_type": "stream",
     "text": [
      "C:\\Users\\Hicham\\Anaconda3\\lib\\site-packages\\IPython\\core\\magics\\pylab.py:160: UserWarning: pylab import has clobbered these variables: ['grid']\n",
      "`%matplotlib` prevents importing * from pylab and numpy\n",
      "  \"\\n`%matplotlib` prevents importing * from pylab and numpy\"\n"
     ]
    }
   ],
   "source": [
    "# Importamos la librerías necesarias\n",
    "\n",
    "import numpy as np\n",
    "import pandas as pd\n",
    "import seaborn as sns\n",
    "from imblearn.over_sampling import SMOTE\n",
    "from sklearn.model_selection import train_test_split\n",
    "from sklearn.preprocessing import MinMaxScaler\n",
    "import matplotlib.pyplot as plt\n",
    "from imblearn.under_sampling import NearMiss\n",
    "%pylab\n",
    "%matplotlib inline\n",
    "\n",
    "%config InlineBackend.figure_format = 'retina'\n",
    "\n",
    "# Ponemos la semilla\n",
    "np.random.seed(0)"
   ]
  },
  {
   "cell_type": "code",
   "execution_count": 16,
   "metadata": {},
   "outputs": [],
   "source": [
    "# Importamos el dataset \n",
    "df = pd.read_csv('Explor_uscecchini28.csv')"
   ]
  },
  {
   "cell_type": "code",
   "execution_count": 17,
   "metadata": {},
   "outputs": [],
   "source": [
    "# Eliminamos la variable Id: Es una variable que se crea al guardar el dataset en el paso anterior. \n",
    "df = df.drop(\"Unnamed: 0\", axis = 1)"
   ]
  },
  {
   "cell_type": "markdown",
   "metadata": {},
   "source": [
    "En este caso, teniendo muchas muestras con etiqueta de no fraude, nuestro modelo será muy efectivo detectando no fraude, pero muy deficiente detectando casos de fraude."
   ]
  },
  {
   "cell_type": "code",
   "execution_count": 18,
   "metadata": {},
   "outputs": [
    {
     "data": {
      "image/png": "[encoded data removed]",
      "text/plain": [
       "<Figure size 432x288 with 1 Axes>"
      ]
     },
     "metadata": {
      "image/png": {
       "height": 278,
       "width": 395
      },
      "needs_background": "light"
     },
     "output_type": "display_data"
    }
   ],
   "source": [
    "# componentes de la variable 'misstate' donde se observa que hay un desbalanceo muy marcado a favor de la etiqueta no fraude.\n",
    "count_classes = pd.value_counts(df['misstate'], sort = True)\n",
    "count_classes.plot(kind = 'bar', rot=0)\n",
    "plt.xticks(range(2))\n",
    "plt.title(\"Frecuencia por número de observaciones\")\n",
    "plt.xlabel(\"Etiquetas\")\n",
    "plt.ylabel(\"Número de observaciones\");"
   ]
  },
  {
   "cell_type": "code",
   "execution_count": 19,
   "metadata": {},
   "outputs": [],
   "source": [
    "# Establecemos las variables de la X y de la Y. \n",
    "classification_X = df.drop([\"misstate\"], axis = 1)\n",
    "classification_y = df[\"misstate\"]"
   ]
  },
  {
   "cell_type": "markdown",
   "metadata": {},
   "source": [
    "### Oversampling: Imblearn SMOTE\n",
    "\n",
    "Oversampling es una forma de combatir este problema y trata de generar nuevas muestras en las clases que están subrepresentadas. La estrategia más eficaz es generar nuevas muestras mediante muestreo aleatorio con reemplazo de las muestras disponibles.\n",
    "\n",
    "**Método de muestreo Synthetic Minority Oversampling (SMOTE):** Genera nuevas muestras por interpolación y clasificara usando la regla de vecinos más cercanos KNN."
   ]
  },
  {
   "cell_type": "code",
   "execution_count": 20,
   "metadata": {},
   "outputs": [
    {
     "data": {
      "text/plain": [
       "1    6281\n",
       "0    6281\n",
       "Name: misstate, dtype: int64"
      ]
     },
     "execution_count": 20,
     "metadata": {},
     "output_type": "execute_result"
    }
   ],
   "source": [
    "# iniciando Smote under-sampling\n",
    "sm = SMOTE()\n",
    "X_sm, y_sm = sm.fit_resample(classification_X,classification_y)\n",
    "\n",
    "# Verificamos los datos\n",
    "y_sm.value_counts()"
   ]
  },
  {
   "cell_type": "code",
   "execution_count": 21,
   "metadata": {},
   "outputs": [
    {
     "data": {
      "text/plain": [
       "1    0.5\n",
       "0    0.5\n",
       "Name: misstate, dtype: float64"
      ]
     },
     "execution_count": 21,
     "metadata": {},
     "output_type": "execute_result"
    }
   ],
   "source": [
    "y_sm.value_counts(normalize=True)"
   ]
  },
  {
   "cell_type": "markdown",
   "metadata": {},
   "source": [
    "### Undersampling: Imblearn NearMiss\n",
    "\n",
    "NearMiss agrega algunas reglas heurísticas para seleccionar muestras. NearMiss implementa 2 tipos diferentes de heurísticos que se pueden seleccionar con el parámetro version\n",
    "\n",
    "Las reglas de los heurísticas se basan en el algoritmo de vecinos más cercanos. Tiene los parámetros n_neighbors y n_neighbors_ver3 derivado KNeighborsMixin de scikit-learn. El primer parámetro se usa para calcular la distancia promedio a los vecinos, mientras que el segundo se usa para la preselección de las muestras de interés."
   ]
  },
  {
   "cell_type": "code",
   "execution_count": 22,
   "metadata": {},
   "outputs": [
    {
     "data": {
      "text/plain": [
       "1    81\n",
       "0    81\n",
       "Name: misstate, dtype: int64"
      ]
     },
     "execution_count": 22,
     "metadata": {},
     "output_type": "execute_result"
    }
   ],
   "source": [
    "nm = NearMiss(version=1)\n",
    "X_nm, y_nm = nm.fit_resample(classification_X,classification_y)\n",
    "# Verificamos los datos\n",
    "y_nm.value_counts()"
   ]
  },
  {
   "cell_type": "code",
   "execution_count": 23,
   "metadata": {},
   "outputs": [
    {
     "data": {
      "text/plain": [
       "1    0.5\n",
       "0    0.5\n",
       "Name: misstate, dtype: float64"
      ]
     },
     "execution_count": 23,
     "metadata": {},
     "output_type": "execute_result"
    }
   ],
   "source": [
    "y_nm.value_counts(normalize=True)"
   ]
  },
  {
   "cell_type": "markdown",
   "metadata": {},
   "source": [
    "Después de implementar los dos métodos, vamos a probarlos por separado con distintos clasificadores y ver cual nos puede acercar más a la solución de nuestro problema de fraude."
   ]
  },
  {
   "cell_type": "markdown",
   "metadata": {},
   "source": [
    "### Classification: Train-Test Split"
   ]
  },
  {
   "cell_type": "markdown",
   "metadata": {},
   "source": [
    "Como queremos probar los dos métodos de Smote y Nearmiss, vamos a crear dos divisiones, un train y un test para cada uno. de esta forma, podremos probarlos y ver lo que nos pueden ofrecer y elegir uno de ellos."
   ]
  },
  {
   "cell_type": "code",
   "execution_count": 24,
   "metadata": {},
   "outputs": [],
   "source": [
    "# Definimos el train y el test SMOTE\n",
    "from sklearn.model_selection import train_test_split\n",
    "\n",
    "X_train_sm, X_test_sm, y_train_sm, y_test_sm = train_test_split(X_sm, y_sm, \n",
    "                                                            test_size = 0.30, random_state = 0)"
   ]
  },
  {
   "cell_type": "code",
   "execution_count": 25,
   "metadata": {},
   "outputs": [],
   "source": [
    "# Definimos el train y el test NEARMISS\n",
    "from sklearn.model_selection import train_test_split\n",
    "\n",
    "X_train_nm, X_test_nm, y_train_nm, y_test_nm = train_test_split(X_nm, y_nm, \n",
    "                                                            test_size = 0.30, random_state = 0)"
   ]
  },
  {
   "cell_type": "markdown",
   "metadata": {},
   "source": [
    "### Función Pre-proceso\n",
    "\n",
    "Como cada conjunto de algoritmos irá por separado, sería más eficiente hacer una función que haga todo el trabajo de preproceso sin tenerlo en cada uno de los notebooks."
   ]
  },
  {
   "cell_type": "code",
   "execution_count": 28,
   "metadata": {},
   "outputs": [],
   "source": [
    "def limpieza (df):\n",
    "    #librerías necesarias\n",
    "    import pandas as pd\n",
    "    from sklearn.model_selection import train_test_split\n",
    "    from imblearn.under_sampling import NearMiss\n",
    "    from imblearn.over_sampling import SMOTE\n",
    "    # Eliminamos la variable Id\n",
    "    df = df.drop(\"Unnamed: 0\", axis = 1) \n",
    "    # Establecemos las variables de la X y de la Y. \n",
    "    classification_X = df.drop([\"misstate\"], axis = 1)\n",
    "    classification_y = df[\"misstate\"]\n",
    "    # iniciando Smote under-sampling\n",
    "    sm = SMOTE()\n",
    "    X_sm, y_sm = sm.fit_resample(classification_X,classification_y)\n",
    "    nm = NearMiss(version=1)\n",
    "    X_nm, y_nm = nm.fit_resample(classification_X,classification_y)\n",
    "    # Definimos el train y el test SMOTE\n",
    "    X_train_sm, X_test_sm, y_train_sm, y_test_sm = train_test_split(X_sm, y_sm, \n",
    "                                                                test_size = 0.30, random_state = 0)\n",
    "    # Definimos el train y el test NEARMISS\n",
    "    X_train_nm, X_test_nm, y_train_nm, y_test_nm = train_test_split(X_nm, y_nm, \n",
    "                                                                test_size = 0.30, random_state = 0)\n",
    "\n",
    "    return(X_train_nm, X_test_nm, y_train_nm, y_test_nm, X_train_sm, X_test_sm, y_train_sm, y_test_sm)"
   ]
  },
  {
   "cell_type": "code",
   "execution_count": null,
   "metadata": {},
   "outputs": [],
   "source": []
  },
  {
   "cell_type": "code",
   "execution_count": null,
   "metadata": {},
   "outputs": [],
   "source": []
  },
  {
   "cell_type": "code",
   "execution_count": null,
   "metadata": {},
   "outputs": [],
   "source": []
  }
 ],
 "metadata": {
  "kernelspec": {
   "display_name": "Python 3",
   "language": "python",
   "name": "python3"
  },
  "language_info": {
   "codemirror_mode": {
    "name": "ipython",
    "version": 3
   },
   "file_extension": ".py",
   "mimetype": "text/x-python",
   "name": "python",
   "nbconvert_exporter": "python",
   "pygments_lexer": "ipython3",
   "version": "3.7.4"
  }
 },
 "nbformat": 4,
 "nbformat_minor": 2
}
