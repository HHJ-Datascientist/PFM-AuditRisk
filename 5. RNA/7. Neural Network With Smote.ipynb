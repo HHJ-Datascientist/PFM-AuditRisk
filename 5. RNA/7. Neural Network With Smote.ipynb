{
 "cells": [
  {
   "cell_type": "markdown",
   "metadata": {},
   "source": [
    "## Neural Network Model\n",
    "\n",
    "Las redes neuronales artificiales están basadas en el funcionamiento de las redes de neuronas biológicas. Las neuronas que todos tenemos en nuestro cerebro están compuestas de dendritas, el soma y el axón: Las dendritas se encargan de captar los impulsos nerviosos que emiten otras neuronas. Estos impulsos, se procesan en el soma y se transmiten a través del axón que emite un impulso nervioso hacia las neuronas contiguas. \n",
    "\n",
    "En el caso de las neuronas artificiales, la suma de las entradas multiplicadas por sus pesos asociados determina el “impulso nervioso” que recibe la neurona. Este valor, se procesa en el interior de la célula mediante una función de activación que devuelve un valor que se envía como salida de la neurona.\n",
    "\n",
    "Las neuronas de la primera capa reciben como entrada los datos reales que alimentan a la red neuronal.  Es por eso por lo que la primera capa se conoce como capa de entrada. La salida de la última capa es el resultado visible de la red, por lo que la última capa se conoce como la capa de salida. Las capas que se sitúan entre la capa de entrada y la capa de salida se conocen como capas ocultas ya que desconocemos tanto los valores de entrada como los de salida."
   ]
  },
  {
   "cell_type": "code",
   "execution_count": null,
   "metadata": {},
   "outputs": [],
   "source": []
  },
  {
   "cell_type": "code",
   "execution_count": 1,
   "metadata": {},
   "outputs": [
    {
     "name": "stderr",
     "output_type": "stream",
     "text": [
      "Using TensorFlow backend.\n"
     ]
    },
    {
     "name": "stdout",
     "output_type": "stream",
     "text": [
      "Using matplotlib backend: Qt5Agg\n",
      "Populating the interactive namespace from numpy and matplotlib\n"
     ]
    }
   ],
   "source": [
    "# Importamos las librerías necesarias\n",
    "\n",
    "import numpy as np\n",
    "import pandas as pd\n",
    "from sklearn.model_selection import GridSearchCV\n",
    "from sklearn.metrics import accuracy_score, auc, confusion_matrix, f1_score, precision_score, recall_score, roc_curve\n",
    "from sklearn.model_selection import train_test_split\n",
    "from sklearn.preprocessing import MinMaxScaler\n",
    "from keras.models import Sequential\n",
    "from keras.layers import Dense,MaxPooling1D\n",
    "import matplotlib.pyplot as plt\n",
    "import seaborn as sns\n",
    "# Representaciones graficas locales\n",
    "\n",
    "%pylab\n",
    "%matplotlib inline\n",
    "\n",
    "%config InlineBackend.figure_format = 'retina'\n",
    "\n",
    "# Obviamos los errores de actualización \n",
    "\n",
    "import warnings\n",
    "warnings.filterwarnings('ignore')\n",
    "import pandas as pd\n",
    "import numpy as np\n",
    "pd.set_option('display.max_columns', 50)\n",
    "\n",
    "\n",
    "# Ponemos la semilla\n",
    "np.random.seed(0)"
   ]
  },
  {
   "cell_type": "code",
   "execution_count": 2,
   "metadata": {},
   "outputs": [],
   "source": [
    "# Importamos la función de limpieza y preprocesado de datos\n",
    "import frauddef # con solo las variables de research"
   ]
  },
  {
   "cell_type": "code",
   "execution_count": 3,
   "metadata": {
    "scrolled": true
   },
   "outputs": [],
   "source": [
    "# Importamos el dataset \n",
    "df = pd.read_csv('Explor_uscecchini28.csv')"
   ]
  },
  {
   "cell_type": "code",
   "execution_count": 4,
   "metadata": {},
   "outputs": [],
   "source": [
    "# Establecemos las variables X e Y\n",
    "X_train_nm, X_test_nm, y_train_nm, y_test_nm, X_train_sm, X_test_sm, y_train_sm, y_test_sm = frauddef.limpieza(df)"
   ]
  },
  {
   "cell_type": "code",
   "execution_count": 5,
   "metadata": {},
   "outputs": [],
   "source": [
    "# Escalamos las variables con MinMaxScaler\n",
    "from sklearn.preprocessing import MinMaxScaler\n",
    "scaler = MinMaxScaler()\n",
    "\n",
    "X_train_sm = scaler.fit_transform(X_train_sm)\n",
    "X_test_sm  = scaler.transform(X_test_sm)"
   ]
  },
  {
   "cell_type": "code",
   "execution_count": 6,
   "metadata": {},
   "outputs": [],
   "source": [
    "# Inicializar la RNA\n",
    "classifier = Sequential()"
   ]
  },
  {
   "cell_type": "code",
   "execution_count": 7,
   "metadata": {},
   "outputs": [],
   "source": [
    "# Añadir las capas de entrada\n",
    "classifier.add(Dense(units = 50, kernel_initializer = \"uniform\",  \n",
    "                     activation = \"relu\", input_dim = 35))"
   ]
  },
  {
   "cell_type": "code",
   "execution_count": 8,
   "metadata": {},
   "outputs": [],
   "source": [
    "# Añadir la segunda capa oculta\n",
    "classifier.add(Dense(units = 35, kernel_initializer = \"uniform\",  activation = \"relu\"))"
   ]
  },
  {
   "cell_type": "code",
   "execution_count": 9,
   "metadata": {},
   "outputs": [],
   "source": [
    "# Añadir la segunda capa oculta\n",
    "classifier.add(Dense(units = 15, kernel_initializer = \"uniform\",  activation = \"sigmoid\"))"
   ]
  },
  {
   "cell_type": "code",
   "execution_count": 10,
   "metadata": {},
   "outputs": [],
   "source": [
    "# Añadir la tercera capa oculta\n",
    "#classifier.add(Dense(units = 3, kernel_initializer = \"uniform\",  activation = \"sigmoid\"))"
   ]
  },
  {
   "cell_type": "code",
   "execution_count": 11,
   "metadata": {},
   "outputs": [],
   "source": [
    "# Añadir la capa de salida\n",
    "classifier.add(Dense(units = 1, kernel_initializer = \"uniform\",  activation = \"sigmoid\"))"
   ]
  },
  {
   "cell_type": "code",
   "execution_count": 12,
   "metadata": {},
   "outputs": [],
   "source": [
    "# Compilar la RNA\n",
    "classifier.compile(optimizer = \"adam\", loss = \"binary_crossentropy\", metrics = [\"accuracy\"])"
   ]
  },
  {
   "cell_type": "code",
   "execution_count": 13,
   "metadata": {},
   "outputs": [
    {
     "name": "stdout",
     "output_type": "stream",
     "text": [
      "Epoch 1/100\n",
      "8793/8793 [==============================] - 1s 165us/step - loss: 0.5751 - accuracy: 0.7075\n",
      "Epoch 2/100\n",
      "8793/8793 [==============================] - 1s 120us/step - loss: 0.4597 - accuracy: 0.8006\n",
      "Epoch 3/100\n",
      "8793/8793 [==============================] - 1s 119us/step - loss: 0.4071 - accuracy: 0.8221\n",
      "Epoch 4/100\n",
      "8793/8793 [==============================] - 1s 120us/step - loss: 0.3562 - accuracy: 0.8522\n",
      "Epoch 5/100\n",
      "8793/8793 [==============================] - 1s 121us/step - loss: 0.3062 - accuracy: 0.8777\n",
      "Epoch 6/100\n",
      "8793/8793 [==============================] - 1s 119us/step - loss: 0.2792 - accuracy: 0.8915\n",
      "Epoch 7/100\n",
      "8793/8793 [==============================] - 1s 120us/step - loss: 0.2569 - accuracy: 0.9011\n",
      "Epoch 8/100\n",
      "8793/8793 [==============================] - 1s 120us/step - loss: 0.2386 - accuracy: 0.9087\n",
      "Epoch 9/100\n",
      "8793/8793 [==============================] - 1s 122us/step - loss: 0.2169 - accuracy: 0.9179\n",
      "Epoch 10/100\n",
      "8793/8793 [==============================] - 1s 120us/step - loss: 0.2000 - accuracy: 0.9265\n",
      "Epoch 11/100\n",
      "8793/8793 [==============================] - 1s 120us/step - loss: 0.1732 - accuracy: 0.9359\n",
      "Epoch 12/100\n",
      "8793/8793 [==============================] - 1s 120us/step - loss: 0.1526 - accuracy: 0.9430\n",
      "Epoch 13/100\n",
      "8793/8793 [==============================] - 1s 121us/step - loss: 0.1441 - accuracy: 0.9469\n",
      "Epoch 14/100\n",
      "8793/8793 [==============================] - 1s 119us/step - loss: 0.1360 - accuracy: 0.9477\n",
      "Epoch 15/100\n",
      "8793/8793 [==============================] - 1s 119us/step - loss: 0.1424 - accuracy: 0.9447\n",
      "Epoch 16/100\n",
      "8793/8793 [==============================] - 1s 120us/step - loss: 0.1303 - accuracy: 0.9517\n",
      "Epoch 17/100\n",
      "8793/8793 [==============================] - 1s 118us/step - loss: 0.1287 - accuracy: 0.9535\n",
      "Epoch 18/100\n",
      "8793/8793 [==============================] - 1s 119us/step - loss: 0.1218 - accuracy: 0.9538\n",
      "Epoch 19/100\n",
      "8793/8793 [==============================] - 1s 120us/step - loss: 0.1176 - accuracy: 0.9520\n",
      "Epoch 20/100\n",
      "8793/8793 [==============================] - 1s 120us/step - loss: 0.1115 - accuracy: 0.9568\n",
      "Epoch 21/100\n",
      "8793/8793 [==============================] - 1s 120us/step - loss: 0.1103 - accuracy: 0.9555\n",
      "Epoch 22/100\n",
      "8793/8793 [==============================] - 1s 120us/step - loss: 0.1076 - accuracy: 0.9570\n",
      "Epoch 23/100\n",
      "8793/8793 [==============================] - 1s 128us/step - loss: 0.1095 - accuracy: 0.9562\n",
      "Epoch 24/100\n",
      "8793/8793 [==============================] - 1s 122us/step - loss: 0.0960 - accuracy: 0.9651\n",
      "Epoch 25/100\n",
      "8793/8793 [==============================] - 1s 125us/step - loss: 0.1016 - accuracy: 0.9588\n",
      "Epoch 26/100\n",
      "8793/8793 [==============================] - 1s 125us/step - loss: 0.0961 - accuracy: 0.9628\n",
      "Epoch 27/100\n",
      "8793/8793 [==============================] - 1s 131us/step - loss: 0.1022 - accuracy: 0.9588\n",
      "Epoch 28/100\n",
      "8793/8793 [==============================] - 1s 112us/step - loss: 0.0939 - accuracy: 0.9635\n",
      "Epoch 29/100\n",
      "8793/8793 [==============================] - 1s 129us/step - loss: 0.0887 - accuracy: 0.9635\n",
      "Epoch 30/100\n",
      "8793/8793 [==============================] - 1s 127us/step - loss: 0.0862 - accuracy: 0.9652\n",
      "Epoch 31/100\n",
      "8793/8793 [==============================] - 2s 198us/step - loss: 0.0917 - accuracy: 0.9630\n",
      "Epoch 32/100\n",
      "8793/8793 [==============================] - 1s 161us/step - loss: 0.0817 - accuracy: 0.9690\n",
      "Epoch 33/100\n",
      "8793/8793 [==============================] - 1s 155us/step - loss: 0.0914 - accuracy: 0.9608\n",
      "Epoch 34/100\n",
      "8793/8793 [==============================] - 1s 139us/step - loss: 0.0813 - accuracy: 0.9675\n",
      "Epoch 35/100\n",
      "8793/8793 [==============================] - 1s 162us/step - loss: 0.0835 - accuracy: 0.9667\n",
      "Epoch 36/100\n",
      "8793/8793 [==============================] - 1s 161us/step - loss: 0.0811 - accuracy: 0.9676\n",
      "Epoch 37/100\n",
      "8793/8793 [==============================] - 1s 136us/step - loss: 0.0773 - accuracy: 0.9699\n",
      "Epoch 38/100\n",
      "8793/8793 [==============================] - 1s 118us/step - loss: 0.0771 - accuracy: 0.9701\n",
      "Epoch 39/100\n",
      "8793/8793 [==============================] - 1s 114us/step - loss: 0.0831 - accuracy: 0.9652\n",
      "Epoch 40/100\n",
      "8793/8793 [==============================] - 1s 121us/step - loss: 0.0798 - accuracy: 0.9667\n",
      "Epoch 41/100\n",
      "8793/8793 [==============================] - 1s 130us/step - loss: 0.0725 - accuracy: 0.9700\n",
      "Epoch 42/100\n",
      "8793/8793 [==============================] - 1s 135us/step - loss: 0.0829 - accuracy: 0.9663\n",
      "Epoch 43/100\n",
      "8793/8793 [==============================] - 1s 145us/step - loss: 0.0702 - accuracy: 0.9702\n",
      "Epoch 44/100\n",
      "8793/8793 [==============================] - 1s 127us/step - loss: 0.0768 - accuracy: 0.9677\n",
      "Epoch 45/100\n",
      "8793/8793 [==============================] - 1s 123us/step - loss: 0.0714 - accuracy: 0.9694\n",
      "Epoch 46/100\n",
      "8793/8793 [==============================] - 1s 134us/step - loss: 0.0647 - accuracy: 0.9744\n",
      "Epoch 47/100\n",
      "8793/8793 [==============================] - 1s 123us/step - loss: 0.0669 - accuracy: 0.9727\n",
      "Epoch 48/100\n",
      "8793/8793 [==============================] - 1s 114us/step - loss: 0.0661 - accuracy: 0.9728\n",
      "Epoch 49/100\n",
      "8793/8793 [==============================] - 1s 121us/step - loss: 0.0723 - accuracy: 0.9705\n",
      "Epoch 50/100\n",
      "8793/8793 [==============================] - 1s 117us/step - loss: 0.0662 - accuracy: 0.9726\n",
      "Epoch 51/100\n",
      "8793/8793 [==============================] - 1s 113us/step - loss: 0.0649 - accuracy: 0.9745\n",
      "Epoch 52/100\n",
      "8793/8793 [==============================] - 1s 113us/step - loss: 0.0754 - accuracy: 0.9683\n",
      "Epoch 53/100\n",
      "8793/8793 [==============================] - 1s 123us/step - loss: 0.0637 - accuracy: 0.9750\n",
      "Epoch 54/100\n",
      "8793/8793 [==============================] - 1s 125us/step - loss: 0.0660 - accuracy: 0.9740\n",
      "Epoch 55/100\n",
      "8793/8793 [==============================] - 1s 120us/step - loss: 0.0591 - accuracy: 0.9754\n",
      "Epoch 56/100\n",
      "8793/8793 [==============================] - 1s 131us/step - loss: 0.0676 - accuracy: 0.9719\n",
      "Epoch 57/100\n",
      "8793/8793 [==============================] - 1s 114us/step - loss: 0.0676 - accuracy: 0.9737\n",
      "Epoch 58/100\n",
      "8793/8793 [==============================] - 1s 121us/step - loss: 0.0631 - accuracy: 0.9730\n",
      "Epoch 59/100\n",
      "8793/8793 [==============================] - 1s 112us/step - loss: 0.0591 - accuracy: 0.9761\n",
      "Epoch 60/100\n",
      "8793/8793 [==============================] - 1s 121us/step - loss: 0.0585 - accuracy: 0.9767\n",
      "Epoch 61/100\n",
      "8793/8793 [==============================] - 1s 114us/step - loss: 0.0584 - accuracy: 0.9755\n",
      "Epoch 62/100\n",
      "8793/8793 [==============================] - 1s 122us/step - loss: 0.0710 - accuracy: 0.9705\n",
      "Epoch 63/100\n",
      "8793/8793 [==============================] - 1s 113us/step - loss: 0.0578 - accuracy: 0.9758\n",
      "Epoch 64/100\n",
      "8793/8793 [==============================] - 1s 117us/step - loss: 0.0642 - accuracy: 0.9727\n",
      "Epoch 65/100\n",
      "8793/8793 [==============================] - 1s 119us/step - loss: 0.0690 - accuracy: 0.9705\n",
      "Epoch 66/100\n",
      "8793/8793 [==============================] - 1s 121us/step - loss: 0.0625 - accuracy: 0.9724\n",
      "Epoch 67/100\n",
      "8793/8793 [==============================] - 1s 118us/step - loss: 0.0619 - accuracy: 0.9757\n",
      "Epoch 68/100\n",
      "8793/8793 [==============================] - 1s 119us/step - loss: 0.0630 - accuracy: 0.9750\n",
      "Epoch 69/100\n",
      "8793/8793 [==============================] - 1s 119us/step - loss: 0.0551 - accuracy: 0.9784\n",
      "Epoch 70/100\n",
      "8793/8793 [==============================] - 1s 117us/step - loss: 0.0545 - accuracy: 0.9774\n",
      "Epoch 71/100\n",
      "8793/8793 [==============================] - 1s 118us/step - loss: 0.0627 - accuracy: 0.9746\n",
      "Epoch 72/100\n",
      "8793/8793 [==============================] - 1s 119us/step - loss: 0.0580 - accuracy: 0.9753\n",
      "Epoch 73/100\n",
      "8793/8793 [==============================] - 1s 118us/step - loss: 0.0569 - accuracy: 0.9774\n",
      "Epoch 74/100\n",
      "8793/8793 [==============================] - 1s 119us/step - loss: 0.0502 - accuracy: 0.9804\n",
      "Epoch 75/100\n",
      "8793/8793 [==============================] - 1s 119us/step - loss: 0.0590 - accuracy: 0.9776\n",
      "Epoch 76/100\n",
      "8793/8793 [==============================] - 1s 117us/step - loss: 0.0619 - accuracy: 0.9752\n",
      "Epoch 77/100\n",
      "8793/8793 [==============================] - 1s 130us/step - loss: 0.0544 - accuracy: 0.9798\n",
      "Epoch 78/100\n",
      "8793/8793 [==============================] - 1s 118us/step - loss: 0.0547 - accuracy: 0.9793\n",
      "Epoch 79/100\n",
      "8793/8793 [==============================] - 1s 115us/step - loss: 0.0534 - accuracy: 0.9783\n",
      "Epoch 80/100\n",
      "8793/8793 [==============================] - 1s 117us/step - loss: 0.0550 - accuracy: 0.9777\n",
      "Epoch 81/100\n",
      "8793/8793 [==============================] - 1s 120us/step - loss: 0.0601 - accuracy: 0.9761\n",
      "Epoch 82/100\n",
      "8793/8793 [==============================] - 1s 128us/step - loss: 0.0535 - accuracy: 0.9784\n",
      "Epoch 83/100\n",
      "8793/8793 [==============================] - 1s 126us/step - loss: 0.0534 - accuracy: 0.9787\n",
      "Epoch 84/100\n",
      "8793/8793 [==============================] - 1s 120us/step - loss: 0.0565 - accuracy: 0.9766\n",
      "Epoch 85/100\n",
      "8793/8793 [==============================] - 1s 138us/step - loss: 0.0512 - accuracy: 0.9795\n",
      "Epoch 86/100\n",
      "8793/8793 [==============================] - 1s 116us/step - loss: 0.0586 - accuracy: 0.9752\n",
      "Epoch 87/100\n",
      "8793/8793 [==============================] - 1s 160us/step - loss: 0.0550 - accuracy: 0.9777\n",
      "Epoch 88/100\n",
      "8793/8793 [==============================] - 1s 120us/step - loss: 0.0567 - accuracy: 0.9785\n",
      "Epoch 89/100\n",
      "8793/8793 [==============================] - 1s 116us/step - loss: 0.0570 - accuracy: 0.9766\n",
      "Epoch 90/100\n",
      "8793/8793 [==============================] - 1s 114us/step - loss: 0.0504 - accuracy: 0.9799\n",
      "Epoch 91/100\n",
      "8793/8793 [==============================] - 1s 112us/step - loss: 0.0651 - accuracy: 0.9750\n",
      "Epoch 92/100\n",
      "8793/8793 [==============================] - 1s 128us/step - loss: 0.0530 - accuracy: 0.9761\n",
      "Epoch 93/100\n",
      "8793/8793 [==============================] - 1s 117us/step - loss: 0.0484 - accuracy: 0.9807\n",
      "Epoch 94/100\n",
      "8793/8793 [==============================] - 1s 122us/step - loss: 0.0499 - accuracy: 0.9807\n",
      "Epoch 95/100\n",
      "8793/8793 [==============================] - 1s 116us/step - loss: 0.0566 - accuracy: 0.9778\n",
      "Epoch 96/100\n",
      "8793/8793 [==============================] - 1s 114us/step - loss: 0.0484 - accuracy: 0.9808\n",
      "Epoch 97/100\n",
      "8793/8793 [==============================] - 1s 129us/step - loss: 0.0507 - accuracy: 0.9801\n",
      "Epoch 98/100\n",
      "8793/8793 [==============================] - 1s 122us/step - loss: 0.0589 - accuracy: 0.9765\n",
      "Epoch 99/100\n",
      "8793/8793 [==============================] - 1s 115us/step - loss: 0.0550 - accuracy: 0.9773\n",
      "Epoch 100/100\n",
      "8793/8793 [==============================] - 1s 114us/step - loss: 0.0480 - accuracy: 0.9801\n"
     ]
    },
    {
     "data": {
      "text/plain": [
       "<keras.callbacks.callbacks.History at 0x21d3b806a88>"
      ]
     },
     "execution_count": 13,
     "metadata": {},
     "output_type": "execute_result"
    }
   ],
   "source": [
    "# Ajustamos la RNA al Conjunto de Entrenamiento\n",
    "classifier.fit(X_train_sm, y_train_sm,  batch_size = 10, epochs = 100)"
   ]
  },
  {
   "cell_type": "code",
   "execution_count": 14,
   "metadata": {},
   "outputs": [
    {
     "name": "stdout",
     "output_type": "stream",
     "text": [
      "Model: \"sequential_1\"\n",
      "_________________________________________________________________\n",
      "Layer (type)                 Output Shape              Param #   \n",
      "=================================================================\n",
      "dense_1 (Dense)              (None, 50)                1800      \n",
      "_________________________________________________________________\n",
      "dense_2 (Dense)              (None, 35)                1785      \n",
      "_________________________________________________________________\n",
      "dense_3 (Dense)              (None, 15)                540       \n",
      "_________________________________________________________________\n",
      "dense_4 (Dense)              (None, 1)                 16        \n",
      "=================================================================\n",
      "Total params: 4,141\n",
      "Trainable params: 4,141\n",
      "Non-trainable params: 0\n",
      "_________________________________________________________________\n"
     ]
    }
   ],
   "source": [
    "# Una vez que se \"construye\" un modelo, puede llamar a su summary() método para mostrar su contenido:\n",
    "classifier.summary()"
   ]
  },
  {
   "cell_type": "code",
   "execution_count": 15,
   "metadata": {},
   "outputs": [
    {
     "data": {
      "image/png": "[encoded data removed]",
      "text/plain": [
       "<Figure size 504x360 with 2 Axes>"
      ]
     },
     "metadata": {
      "image/png": {
       "height": 331,
       "width": 422
      },
      "needs_background": "light"
     },
     "output_type": "display_data"
    }
   ],
   "source": [
    "# Parte 3 - Evaluar el modelo y calcular predicciones finales\n",
    "\n",
    "# Predicción de los resultados con el Conjunto de Testing\n",
    "y_pred  = classifier.predict(X_test_sm)\n",
    "# Establecemos el acierto en el 95 %\n",
    "y_pred = (y_pred>0.95)\n",
    "# Elaborar una matriz de confusión\n",
    "from sklearn.metrics import accuracy_score, auc, confusion_matrix, f1_score, precision_score, recall_score, roc_curve, roc_auc_score\n",
    "cm = confusion_matrix(y_test_sm, y_pred)\n",
    "false_positive_rate, recall, thresholds = roc_curve(y_test_sm, y_pred) # el area bajo la curva\n",
    "# representar la matriz de confusión\n",
    "plt.figure(figsize=(7,5))\n",
    "sns.heatmap(cm,  cmap= 'Blues', annot=True, fmt='3')\n",
    "plt.xlabel('predicted')\n",
    "plt.ylabel('actual')\n",
    "plt.title('Confusion Matrix')\n",
    "plt.show()"
   ]
  },
  {
   "cell_type": "code",
   "execution_count": 16,
   "metadata": {},
   "outputs": [
    {
     "data": {
      "text/plain": [
       "0.962058901565402"
      ]
     },
     "execution_count": 16,
     "metadata": {},
     "output_type": "execute_result"
    }
   ],
   "source": [
    "# accuracy\n",
    "accuracy_score(y_test_sm, y_pred)"
   ]
  },
  {
   "cell_type": "code",
   "execution_count": 17,
   "metadata": {},
   "outputs": [
    {
     "data": {
      "text/plain": [
       "0.9616519174041298"
      ]
     },
     "execution_count": 17,
     "metadata": {},
     "output_type": "execute_result"
    }
   ],
   "source": [
    "# F1\n",
    "f1_score(y_test_sm, y_pred)"
   ]
  },
  {
   "cell_type": "code",
   "execution_count": 18,
   "metadata": {},
   "outputs": [
    {
     "data": {
      "text/plain": [
       "0.9626512774603696"
      ]
     },
     "execution_count": 18,
     "metadata": {},
     "output_type": "execute_result"
    }
   ],
   "source": [
    "# AUC\n",
    "roc_auc_score(y_test_sm, y_pred)"
   ]
  },
  {
   "cell_type": "code",
   "execution_count": null,
   "metadata": {},
   "outputs": [],
   "source": []
  }
 ],
 "metadata": {
  "kernelspec": {
   "display_name": "Python 3",
   "language": "python",
   "name": "python3"
  },
  "language_info": {
   "codemirror_mode": {
    "name": "ipython",
    "version": 3
   },
   "file_extension": ".py",
   "mimetype": "text/x-python",
   "name": "python",
   "nbconvert_exporter": "python",
   "pygments_lexer": "ipython3",
   "version": "3.7.4"
  }
 },
 "nbformat": 4,
 "nbformat_minor": 2
}
