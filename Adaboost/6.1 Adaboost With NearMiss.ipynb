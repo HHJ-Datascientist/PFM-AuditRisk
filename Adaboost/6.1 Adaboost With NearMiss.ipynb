{
 "cells": [
  {
   "cell_type": "markdown",
   "metadata": {},
   "source": [
    "## Adaboost"
   ]
  },
  {
   "cell_type": "markdown",
   "metadata": {},
   "source": [
    "Los métodos de ensamble de modelos o métodos combinados intentan ayudar a mejorar el rendimiento de los modelos de Machine Learning al mejorar su precisión. Este es un proceso mediante el cual se construyen estratégicamente varios modelos de Machine Learning para resolver un problema particular.\n",
    "\n",
    "El algoritmo AdaBoost (Adaptive Boosting) propone entrenar iterativamente una serie de clasificadores base, de tal modo que cada nuevo clasificador preste mayor atención a los datos clasificados erróneamente por los clasificadores anteriores, y combinarlos de tal modo que se obtenga un clasificador con elevadas prestaciones. Para ello, durante una serie de iteraciones entrena un clasificador que implementa una función asignándole un peso de salida, y lo añade al conjunto de modo que la salida global del sistema se obtenga como combinación lineal ponderada de todos los clasificadores base.\n",
    "\n",
    "AdaBoost es un conjunto creado a partir de árboles de decisión agregados secuencialmente al modelo y los modelos posteriores en la secuencia corrigen las predicciones hechas por modelos anteriores.\n",
    "\n",
    "En el caso de nuestro trabajo, vamos a utilizar dos algoritmos débiles: “Decision Tree”, “Logistic Regression” y \"Random Forest\""
   ]
  },
  {
   "cell_type": "code",
   "execution_count": 28,
   "metadata": {},
   "outputs": [
    {
     "name": "stdout",
     "output_type": "stream",
     "text": [
      "Using matplotlib backend: Qt5Agg\n",
      "Populating the interactive namespace from numpy and matplotlib\n"
     ]
    }
   ],
   "source": [
    "# Importamos las librerías necesarias\n",
    "\n",
    "import numpy as np\n",
    "import pandas as pd\n",
    "from sklearn.model_selection import GridSearchCV\n",
    "from sklearn.linear_model import LogisticRegression\n",
    "from sklearn.tree import DecisionTreeClassifier\n",
    "from sklearn.ensemble import RandomForestClassifier\n",
    "from sklearn.ensemble import AdaBoostClassifier\n",
    "from sklearn.metrics import accuracy_score, auc, confusion_matrix, f1_score, precision_score, recall_score, roc_curve\n",
    "from sklearn.model_selection import train_test_split\n",
    "from sklearn.preprocessing import MinMaxScaler\n",
    "import matplotlib.pyplot as plt\n",
    "from sklearn.decomposition import PCA\n",
    "\n",
    "# Representaciones graficas locales\n",
    "\n",
    "%pylab\n",
    "%matplotlib inline\n",
    "\n",
    "%config InlineBackend.figure_format = 'retina'\n",
    "\n",
    "# Obviamos los errores de actualización \n",
    "\n",
    "import warnings\n",
    "warnings.filterwarnings('ignore')\n",
    "pd.set_option('display.max_columns', 50)\n",
    "\n",
    "# Ponemos la semilla\n",
    "np.random.seed(0)"
   ]
  },
  {
   "cell_type": "code",
   "execution_count": 29,
   "metadata": {},
   "outputs": [],
   "source": [
    "# Importamos la función de limpieza y preprocesado de datos\n",
    "import frauddef # con solo las variables de research"
   ]
  },
  {
   "cell_type": "code",
   "execution_count": 30,
   "metadata": {
    "scrolled": true
   },
   "outputs": [],
   "source": [
    "# Importamos el dataset \n",
    "df = pd.read_csv('Explor_uscecchini28.csv')"
   ]
  },
  {
   "cell_type": "code",
   "execution_count": 31,
   "metadata": {},
   "outputs": [],
   "source": [
    "# Establecemos las variables X e Y\n",
    "X_train_nm, X_test_nm, y_train_nm, y_test_nm, X_train_sm, X_test_sm, y_train_sm, y_test_sm = frauddef.limpieza(df)"
   ]
  },
  {
   "cell_type": "code",
   "execution_count": 32,
   "metadata": {},
   "outputs": [],
   "source": [
    "# Escalamos las variables con MinMaxScaler\n",
    "from sklearn.preprocessing import MinMaxScaler\n",
    "scaler = MinMaxScaler()\n",
    "\n",
    "X_train_nm = scaler.fit_transform(X_train_nm)\n",
    "X_test_nm  = scaler.transform(X_test_nm)"
   ]
  },
  {
   "cell_type": "markdown",
   "metadata": {},
   "source": [
    "##### Logistic Regression with Adaboost\n",
    "\n",
    "Logistic Regression es de los mejores algoritmo de clasificación lineal para problemas de dos clases.\n",
    "\n",
    "Es fácil de implementar, fácil de entender y obtiene excelentes resultados en una amplia variedad de problemas."
   ]
  },
  {
   "cell_type": "code",
   "execution_count": 33,
   "metadata": {},
   "outputs": [
    {
     "name": "stdout",
     "output_type": "stream",
     "text": [
      "Best Parameters for LR with PCA:  {'C': 0.001, 'penalty': 'l2'}\n"
     ]
    }
   ],
   "source": [
    "# Selección de parámetros de dt con la función \"GridSearchCV\"\n",
    "lr = LogisticRegression()\n",
    "param_grid = dict(penalty = [\"l1\",\"l2\"], C= np.logspace(-3,3,7))# l1 lasso l2 ridge\n",
    "\n",
    "# establecemos la validación cruzado con 2 divisiones, los parámetros y el uso de núcleos de memoria.\n",
    "grid_lr = GridSearchCV(lr, param_grid, cv = 2, scoring='roc_auc', return_train_score=True)\n",
    "# Entrenamiento del Grid\n",
    "grid_lr.fit(X_train_nm, y_train_nm)\n",
    "\n",
    "# Mejor parámetro\n",
    "print(\"Best Parameters for LR with PCA: \", grid_lr.best_params_)"
   ]
  },
  {
   "cell_type": "code",
   "execution_count": 34,
   "metadata": {},
   "outputs": [
    {
     "data": {
      "text/plain": [
       "GridSearchCV(cv=5,\n",
       "             estimator=AdaBoostClassifier(base_estimator=LogisticRegression(C=0.001)),\n",
       "             n_jobs=-1,\n",
       "             param_grid={'algorithm': ['SAMME', 'SAMME.R'],\n",
       "                         'learning_rate': [0.05, 0.1, 0.5, 1, 10],\n",
       "                         'n_estimators': [90, 100, 200, 500, 1000]})"
      ]
     },
     "execution_count": 34,
     "metadata": {},
     "output_type": "execute_result"
    }
   ],
   "source": [
    "# Selección de los parámetros LR con la función \"GridSearchCV\"\n",
    "lr = LogisticRegression(penalty= grid_lr.best_params_['penalty']\n",
    "                         , C= grid_lr.best_params_['C'])\n",
    "ada = AdaBoostClassifier(lr)\n",
    "# de los parámetros AdaBoostClassifier\n",
    "param = dict(n_estimators = [90,100,200,500,1000],\n",
    "        learning_rate= [0.05, 0.1, 0.5, 1, 10],\n",
    "                    algorithm=['SAMME', 'SAMME.R'])\n",
    "\n",
    "# Grid model AdaBoostClassifier\n",
    "ada_grid = GridSearchCV(ada, param, cv=5, n_jobs= -1)\n",
    "\n",
    "ada_grid.fit(X_train_nm, y_train_nm)"
   ]
  },
  {
   "cell_type": "code",
   "execution_count": 35,
   "metadata": {},
   "outputs": [
    {
     "name": "stdout",
     "output_type": "stream",
     "text": [
      "Best Parameters for Adaboost Classifier:  {'algorithm': 'SAMME', 'learning_rate': 0.5, 'n_estimators': 90}\n"
     ]
    }
   ],
   "source": [
    "# Mejor parámetro AdaBoostClassifier\n",
    "print(\"Best Parameters for Adaboost Classifier: \", ada_grid.best_params_)"
   ]
  },
  {
   "cell_type": "code",
   "execution_count": 36,
   "metadata": {},
   "outputs": [
    {
     "data": {
      "text/plain": [
       "AdaBoostClassifier(algorithm='SAMME',\n",
       "                   base_estimator=LogisticRegression(C=0.001),\n",
       "                   learning_rate=0.5, n_estimators=90)"
      ]
     },
     "execution_count": 36,
     "metadata": {},
     "output_type": "execute_result"
    }
   ],
   "source": [
    "# Construcción del modelo AdaBoostClassifier\n",
    "ada = AdaBoostClassifier(lr, n_estimators= ada_grid.best_params_['n_estimators']\n",
    "                         , learning_rate= ada_grid.best_params_['learning_rate']\n",
    "                         , algorithm=ada_grid.best_params_['algorithm'])\n",
    "ada.fit(X_train_nm, y_train_nm)"
   ]
  },
  {
   "cell_type": "code",
   "execution_count": 37,
   "metadata": {},
   "outputs": [
    {
     "name": "stdout",
     "output_type": "stream",
     "text": [
      "Logistic Regression with Adaboost Training Score:  0.8761061946902655\n",
      "Logistic Regression with Adaboost Testing Score:  0.8979591836734694\n",
      "- Nombre del Modelo: AdaBoostClassifier \n",
      " \n",
      " - Precisión: 0.8979591836734694 | \n",
      " - Exactitud: 0.92 | \n",
      " - Exhaustividad: 0.8846153846153846 | \n",
      " - F1: 0.9019607843137256 | \n",
      " - AUC: 0.8988294314381271 |\n",
      " \n",
      " - Matriz de confusion: \n",
      " [[21  2]\n",
      " [ 3 23]] \n",
      "\n"
     ]
    },
    {
     "data": {
      "text/plain": [
       "Text(0.5, 1.0, 'AUC = 0.90')"
      ]
     },
     "execution_count": 37,
     "metadata": {},
     "output_type": "execute_result"
    },
    {
     "data": {
      "image/png": "[encoded data removed]",
      "text/plain": [
       "<Figure size 432x288 with 1 Axes>"
      ]
     },
     "metadata": {
      "image/png": {
       "height": 263,
       "width": 372
      },
      "needs_background": "light"
     },
     "output_type": "display_data"
    }
   ],
   "source": [
    "# Medición del rendimiento de los modelos; exactitud, exhaustividad, F1, Auc y matriz de confusión.\n",
    "\n",
    "print(\"Logistic Regression with Adaboost Training Score: \", ada.score(X_train_nm, y_train_nm))\n",
    "print(\"Logistic Regression with Adaboost Testing Score: \", ada.score(X_test_nm, y_test_nm))\n",
    "\n",
    "y_test_pred = ada.predict(X_test_nm)\n",
    "y_train_pred = ada.predict(X_train_nm)\n",
    "cm = confusion_matrix(y_test_nm, y_test_pred)\n",
    "false_positive_rate, recall, thresholds = roc_curve(y_test_nm, y_test_pred) # el area bajo la curva\n",
    "roc_auc = auc(false_positive_rate, recall)\n",
    "    \n",
    "print(\"- Nombre del Modelo: {} \\n\" .format(ada.__class__.__name__) , \"\\n - Precisión: {} |\" \n",
    "        .format(accuracy_score(y_test_nm, y_test_pred)), \n",
    "        \"\\n - Exactitud: {} |\" .format(precision_score(y_test_nm, y_test_pred)), \n",
    "        \"\\n - Exhaustividad: {} |\" .format(recall_score(y_test_nm, y_test_pred)), \n",
    "        \"\\n - F1: {} |\" .format(f1_score(y_test_nm, y_test_pred)), \n",
    "        \"\\n - AUC: {} |\\n\" .format(auc(false_positive_rate, recall)),\n",
    "        \"\\n - Matriz de confusion: \\n {} \\n\" .format(cm))\n",
    "    \n",
    "plot(false_positive_rate, recall, 'b') # imprimir el ratio\n",
    "plot([0, 1], [0, 1], 'r--') # difinir el ratio entre 0 y 1\n",
    "title('AUC = %0.2f' % roc_auc)"
   ]
  },
  {
   "cell_type": "code",
   "execution_count": 38,
   "metadata": {},
   "outputs": [],
   "source": [
    "# Guardamos la Medición del rendimiento de los modelos en una tabla.\n",
    "report_table_1 = ['Logistic Regression with Adaboost NearMiss', grid_lr.best_params_,\n",
    "                  ada.score(X_train_nm, y_train_nm), ada.score(X_test_nm, y_test_nm), recall_score(y_test_nm, y_test_pred),\n",
    "                 f1_score(y_test_nm, y_test_pred), auc(false_positive_rate, recall)]"
   ]
  },
  {
   "cell_type": "markdown",
   "metadata": {},
   "source": [
    "##### Decision Tree with Adaboost\n",
    "\n",
    "Decision Tree es un método de predicción poderoso y extremadamente popular.\n",
    "\n",
    "su populares reside en que el modelo final es muy fácil de entender tanto por profesionales como por expertos. Decision Tree puede explicar exactamente por qué se realizó una predicción específica, lo que la hace muy atractiva para el uso operativo.\n",
    "\n",
    "Decision Tree también proporcionan la base para métodos de conjunto más avanzados como Adaboost."
   ]
  },
  {
   "cell_type": "code",
   "execution_count": 39,
   "metadata": {},
   "outputs": [
    {
     "data": {
      "text/plain": [
       "GridSearchCV(cv=2, estimator=DecisionTreeClassifier(), n_jobs=-1,\n",
       "             param_grid={'criterion': ['gini', 'entropy'],\n",
       "                         'max_depth': array([ 1,  2,  3,  4,  5,  6,  7,  8,  9, 10, 11, 12, 13, 14])})"
      ]
     },
     "execution_count": 39,
     "metadata": {},
     "output_type": "execute_result"
    }
   ],
   "source": [
    "# Selección de parámetros de dt con la función \"GridSearchCV\"\n",
    "dt = DecisionTreeClassifier()\n",
    "grid_param = dict(criterion=['gini','entropy'],max_depth= np.arange(1, 15))\n",
    "\n",
    "# establecemos la validación cruzado con 2 divisiones, los parámetros y el uso de núcleos de memoria.\n",
    "dt_grid = GridSearchCV(dt, grid_param, cv = 2, n_jobs = -1)\n",
    "# Entrenamiento del Grid\n",
    "dt_grid.fit(X_train_nm, y_train_nm)"
   ]
  },
  {
   "cell_type": "code",
   "execution_count": 40,
   "metadata": {},
   "outputs": [
    {
     "name": "stdout",
     "output_type": "stream",
     "text": [
      "Best Parameters for Decision Tree Classifier with Adaboost:  {'criterion': 'entropy', 'max_depth': 4}\n"
     ]
    }
   ],
   "source": [
    "# Mejor parámetro Para DT\n",
    "print(\"Best Parameters for Decision Tree Classifier with Adaboost: \", dt_grid.best_params_)"
   ]
  },
  {
   "cell_type": "code",
   "execution_count": 41,
   "metadata": {},
   "outputs": [
    {
     "data": {
      "text/plain": [
       "GridSearchCV(cv=5,\n",
       "             estimator=AdaBoostClassifier(base_estimator=DecisionTreeClassifier(criterion='entropy',\n",
       "                                                                                max_depth=4)),\n",
       "             n_jobs=-1, param_grid={})"
      ]
     },
     "execution_count": 41,
     "metadata": {},
     "output_type": "execute_result"
    }
   ],
   "source": [
    "# Selección de los parámetros de DT con la función \"GridSearchCV\"\n",
    "\n",
    "dt = DecisionTreeClassifier(max_depth= dt_grid.best_params_['max_depth']\n",
    "                                ,criterion= dt_grid.best_params_['criterion'])\n",
    "ada = AdaBoostClassifier(dt)\n",
    "\n",
    "# los parámetros de AdaBoostClassifier\n",
    "param = dict()\n",
    "\n",
    "ada_grid = GridSearchCV(ada, param, cv=5, n_jobs= -1)\n",
    "# Entrenamiento\n",
    "ada_grid.fit(X_train_nm, y_train_nm)"
   ]
  },
  {
   "cell_type": "code",
   "execution_count": 42,
   "metadata": {},
   "outputs": [
    {
     "name": "stdout",
     "output_type": "stream",
     "text": [
      "Best Parameters for Adaboost Classifier:  {}\n"
     ]
    }
   ],
   "source": [
    "# Mejores parámetros AdaBoostClassifier\n",
    "print(\"Best Parameters for Adaboost Classifier: \", ada_grid.best_params_)"
   ]
  },
  {
   "cell_type": "code",
   "execution_count": 43,
   "metadata": {},
   "outputs": [
    {
     "data": {
      "text/plain": [
       "AdaBoostClassifier(base_estimator=DecisionTreeClassifier(criterion='entropy',\n",
       "                                                         max_depth=4))"
      ]
     },
     "execution_count": 43,
     "metadata": {},
     "output_type": "execute_result"
    }
   ],
   "source": [
    "# Construcción del modelo AdaBoostClassifier\n",
    "ada = AdaBoostClassifier(dt)\n",
    "\n",
    "# entrenamiento del modelo AdaBoostClassifier\n",
    "ada.fit(X_train_nm, y_train_nm)"
   ]
  },
  {
   "cell_type": "code",
   "execution_count": null,
   "metadata": {},
   "outputs": [],
   "source": []
  },
  {
   "cell_type": "code",
   "execution_count": 44,
   "metadata": {},
   "outputs": [
    {
     "name": "stdout",
     "output_type": "stream",
     "text": [
      "Decision Tree Classifier with Adaboost Training Score:  1.0\n",
      "Decision Tree Classifier with Adaboost Testing Score:  1.0\n",
      "- Nombre del Modelo: AdaBoostClassifier \n",
      " \n",
      " - Precisión: 1.0 | \n",
      " - Exactitud: 1.0 | \n",
      " - Exhaustividad: 1.0 | \n",
      " - F1: 1.0 | \n",
      " - AUC: 1.0 |\n",
      " \n",
      " - Matriz de confusion: \n",
      " [[23  0]\n",
      " [ 0 26]] \n",
      "\n"
     ]
    },
    {
     "data": {
      "text/plain": [
       "Text(0.5, 1.0, 'AUC = 1.00')"
      ]
     },
     "execution_count": 44,
     "metadata": {},
     "output_type": "execute_result"
    },
    {
     "data": {
      "image/png": "[encoded data removed]",
      "text/plain": [
       "<Figure size 432x288 with 1 Axes>"
      ]
     },
     "metadata": {
      "image/png": {
       "height": 263,
       "width": 372
      },
      "needs_background": "light"
     },
     "output_type": "display_data"
    }
   ],
   "source": [
    "# Medición del rendimiento de los modelos; exactitud, exhaustividad, F1, Auc y matriz de confusión.\n",
    "\n",
    "print(\"Decision Tree Classifier with Adaboost Training Score: \", ada.score(X_train_nm, y_train_nm))\n",
    "print(\"Decision Tree Classifier with Adaboost Testing Score: \", ada.score(X_test_nm, y_test_nm))\n",
    "\n",
    "y_test_pred = ada.predict(X_test_nm)\n",
    "y_train_pred = ada.predict(X_train_nm)\n",
    "cm = confusion_matrix(y_test_nm, y_test_pred)\n",
    "false_positive_rate, recall, thresholds = roc_curve(y_test_nm, y_test_pred) # el area bajo la curva\n",
    "roc_auc = auc(false_positive_rate, recall)\n",
    "    \n",
    "print(\"- Nombre del Modelo: {} \\n\" .format(ada.__class__.__name__) , \"\\n - Precisión: {} |\" \n",
    "        .format(accuracy_score(y_test_nm, y_test_pred)), \n",
    "        \"\\n - Exactitud: {} |\" .format(precision_score(y_test_nm, y_test_pred)), \n",
    "        \"\\n - Exhaustividad: {} |\" .format(recall_score(y_test_nm, y_test_pred)), \n",
    "        \"\\n - F1: {} |\" .format(f1_score(y_test_nm, y_test_pred)), \n",
    "        \"\\n - AUC: {} |\\n\" .format(auc(false_positive_rate, recall)),\n",
    "        \"\\n - Matriz de confusion: \\n {} \\n\" .format(cm))\n",
    "    \n",
    "plot(false_positive_rate, recall, 'b') # imprimir el ratio\n",
    "plot([0, 1], [0, 1], 'r--') # difinir el ratio entre 0 y 1\n",
    "title('AUC = %0.2f' % roc_auc)"
   ]
  },
  {
   "cell_type": "code",
   "execution_count": 45,
   "metadata": {},
   "outputs": [],
   "source": [
    "# Guardamos la Medición del rendimiento de los modelos en una tabla.\n",
    "report_table_2 = ['Decision Tree Classifier with Adaboost NearMiss', ada_grid.best_params_,\n",
    "                  ada.score(X_train_nm, y_train_nm), ada.score(X_test_nm, y_test_nm), recall_score(y_test_nm, y_test_pred),\n",
    "                 f1_score(y_test_nm, y_test_pred), auc(false_positive_rate, recall)]"
   ]
  },
  {
   "cell_type": "code",
   "execution_count": null,
   "metadata": {},
   "outputs": [],
   "source": []
  },
  {
   "cell_type": "markdown",
   "metadata": {},
   "source": [
    "##### Random Forest Classifier with Adaboost\n"
   ]
  },
  {
   "cell_type": "code",
   "execution_count": 46,
   "metadata": {},
   "outputs": [
    {
     "name": "stdout",
     "output_type": "stream",
     "text": [
      "Best Parameters for RF with Adaboost:  {'criterion': 'entropy', 'max_depth': 5, 'n_estimators': 100}\n"
     ]
    }
   ],
   "source": [
    "# Selección de parámetros de dt con la función \"GridSearchCV\"\n",
    "rf = RandomForestClassifier()\n",
    "param_grid = dict(max_depth=[1,3,5,7,9,15], \n",
    "                  n_estimators= [100,250,500],criterion=['gini', 'entropy'])\n",
    "\n",
    "# establecemos la validación cruzado con 2 divisiones, los parámetros y el uso de núcleos de memoria.\n",
    "grid_rf = GridSearchCV(rf, param_grid, cv = 2, scoring='roc_auc', return_train_score=True)\n",
    "# Entrenamiento del Grid\n",
    "grid_rf.fit(X_train_nm, y_train_nm)\n",
    "\n",
    "# Mejor parámetro\n",
    "print(\"Best Parameters for RF with Adaboost: \", grid_rf.best_params_)"
   ]
  },
  {
   "cell_type": "code",
   "execution_count": 47,
   "metadata": {},
   "outputs": [
    {
     "data": {
      "text/plain": [
       "GridSearchCV(cv=5,\n",
       "             estimator=AdaBoostClassifier(base_estimator=RandomForestClassifier(criterion='entropy',\n",
       "                                                                                max_depth=5)),\n",
       "             n_jobs=-1, param_grid={})"
      ]
     },
     "execution_count": 47,
     "metadata": {},
     "output_type": "execute_result"
    }
   ],
   "source": [
    "# Selección de los parámetros de LR con la función \"GridSearchCV\"\n",
    "rf = RandomForestClassifier(n_estimators= grid_rf.best_params_['n_estimators']\n",
    "                                , max_depth= grid_rf.best_params_['max_depth']\n",
    "                                ,criterion = grid_rf.best_params_['criterion'])\n",
    "ada = AdaBoostClassifier(rf)\n",
    "# de los parámetros AdaBoostClassifier\n",
    "param = dict()\n",
    "\n",
    "ada_grid = GridSearchCV(ada, param, cv=5, n_jobs= -1)\n",
    "# entrenamiento del Grid model AdaBoostClassifier\n",
    "ada_grid.fit(X_train_nm, y_train_nm)"
   ]
  },
  {
   "cell_type": "code",
   "execution_count": 48,
   "metadata": {},
   "outputs": [
    {
     "name": "stdout",
     "output_type": "stream",
     "text": [
      "Best Parameters for Adaboost Classifier:  {}\n"
     ]
    }
   ],
   "source": [
    "# Mejor parámetro AdaBoostClassifier\n",
    "print(\"Best Parameters for Adaboost Classifier: \", ada_grid.best_params_)"
   ]
  },
  {
   "cell_type": "code",
   "execution_count": 49,
   "metadata": {},
   "outputs": [
    {
     "data": {
      "text/plain": [
       "AdaBoostClassifier(base_estimator=RandomForestClassifier(criterion='entropy',\n",
       "                                                         max_depth=5))"
      ]
     },
     "execution_count": 49,
     "metadata": {},
     "output_type": "execute_result"
    }
   ],
   "source": [
    "# Construcción del modelo AdaBoostClassifier\n",
    "ada = AdaBoostClassifier(rf)\n",
    "\n",
    "# entrenamiento del modelo AdaBoostClassifier\n",
    "ada.fit(X_train_nm, y_train_nm)"
   ]
  },
  {
   "cell_type": "code",
   "execution_count": 50,
   "metadata": {},
   "outputs": [
    {
     "name": "stdout",
     "output_type": "stream",
     "text": [
      "Random Forest Classifier with Adaboost Training Score:  1.0\n",
      "Random Forest Classifier with Adaboost Testing Score:  1.0\n",
      "- Nombre del Modelo: AdaBoostClassifier \n",
      " \n",
      " - Precisión: 1.0 | \n",
      " - Exactitud: 1.0 | \n",
      " - Exhaustividad: 1.0 | \n",
      " - F1: 1.0 | \n",
      " - AUC: 1.0 |\n",
      " \n",
      " - Matriz de confusion: \n",
      " [[23  0]\n",
      " [ 0 26]] \n",
      "\n"
     ]
    },
    {
     "data": {
      "text/plain": [
       "Text(0.5, 1.0, 'AUC = 1.00')"
      ]
     },
     "execution_count": 50,
     "metadata": {},
     "output_type": "execute_result"
    },
    {
     "data": {
      "image/png": "[encoded data removed]",
      "text/plain": [
       "<Figure size 432x288 with 1 Axes>"
      ]
     },
     "metadata": {
      "image/png": {
       "height": 263,
       "width": 372
      },
      "needs_background": "light"
     },
     "output_type": "display_data"
    }
   ],
   "source": [
    "# Medición del rendimiento de los modelos; exactitud, exhaustividad, F1, Auc y matriz de confusión.\n",
    "\n",
    "print(\"Random Forest Classifier with Adaboost Training Score: \", ada.score(X_train_nm, y_train_nm))\n",
    "print(\"Random Forest Classifier with Adaboost Testing Score: \", ada.score(X_test_nm, y_test_nm))\n",
    "\n",
    "y_test_pred = ada.predict(X_test_nm)\n",
    "y_train_pred = ada.predict(X_train_nm)\n",
    "cm = confusion_matrix(y_test_nm, y_test_pred)\n",
    "false_positive_rate, recall, thresholds = roc_curve(y_test_nm, y_test_pred) # el area bajo la curva\n",
    "roc_auc = auc(false_positive_rate, recall)\n",
    "    \n",
    "print(\"- Nombre del Modelo: {} \\n\" .format(ada.__class__.__name__) , \"\\n - Precisión: {} |\" \n",
    "        .format(accuracy_score(y_test_nm, y_test_pred)), \n",
    "        \"\\n - Exactitud: {} |\" .format(precision_score(y_test_nm, y_test_pred)), \n",
    "        \"\\n - Exhaustividad: {} |\" .format(recall_score(y_test_nm, y_test_pred)), \n",
    "        \"\\n - F1: {} |\" .format(f1_score(y_test_nm, y_test_pred)), \n",
    "        \"\\n - AUC: {} |\\n\" .format(auc(false_positive_rate, recall)),\n",
    "        \"\\n - Matriz de confusion: \\n {} \\n\" .format(cm))\n",
    "    \n",
    "plot(false_positive_rate, recall, 'b') # imprimir el ratio\n",
    "plot([0, 1], [0, 1], 'r--') # difinir el ratio entre 0 y 1\n",
    "title('AUC = %0.2f' % roc_auc)"
   ]
  },
  {
   "cell_type": "code",
   "execution_count": 51,
   "metadata": {},
   "outputs": [],
   "source": [
    "# Guardamos la Medición del rendimiento de los modelos en una tabla.\n",
    "report_table_3 = ['Random Forest Classifier with Adaboost NearMiss', grid_rf.best_params_,\n",
    "                  ada.score(X_train_nm, y_train_nm), ada.score(X_test_nm, y_test_nm), recall_score(y_test_nm, y_test_pred),\n",
    "                 f1_score(y_test_nm, y_test_pred), auc(false_positive_rate, recall)]"
   ]
  },
  {
   "cell_type": "code",
   "execution_count": 52,
   "metadata": {},
   "outputs": [],
   "source": [
    "# Mostrar la Medición del rendimiento de los modelos en una tabla.\n",
    "report_table = pd.DataFrame(list(zip(report_table_1,\n",
    "             report_table_2,\n",
    "             report_table_3))).transpose()"
   ]
  },
  {
   "cell_type": "code",
   "execution_count": 53,
   "metadata": {},
   "outputs": [
    {
     "data": {
      "text/html": [
       "<div>\n",
       "<style scoped>\n",
       "    .dataframe tbody tr th:only-of-type {\n",
       "        vertical-align: middle;\n",
       "    }\n",
       "\n",
       "    .dataframe tbody tr th {\n",
       "        vertical-align: top;\n",
       "    }\n",
       "\n",
       "    .dataframe thead th {\n",
       "        text-align: right;\n",
       "    }\n",
       "</style>\n",
       "<table border=\"1\" class=\"dataframe\">\n",
       "  <thead>\n",
       "    <tr style=\"text-align: right;\">\n",
       "      <th></th>\n",
       "      <th>Model Name</th>\n",
       "      <th>Model Parameter</th>\n",
       "      <th>Training Score</th>\n",
       "      <th>Testing Score</th>\n",
       "      <th>Exhaustividad</th>\n",
       "      <th>F1</th>\n",
       "      <th>AUC</th>\n",
       "    </tr>\n",
       "    <tr>\n",
       "      <th>Model Name</th>\n",
       "      <th></th>\n",
       "      <th></th>\n",
       "      <th></th>\n",
       "      <th></th>\n",
       "      <th></th>\n",
       "      <th></th>\n",
       "      <th></th>\n",
       "    </tr>\n",
       "  </thead>\n",
       "  <tbody>\n",
       "    <tr>\n",
       "      <td>Logistic Regression with Adaboost NearMiss</td>\n",
       "      <td>Logistic Regression with Adaboost NearMiss</td>\n",
       "      <td>{'C': 0.001, 'penalty': 'l2'}</td>\n",
       "      <td>0.876106</td>\n",
       "      <td>0.897959</td>\n",
       "      <td>0.884615</td>\n",
       "      <td>0.901961</td>\n",
       "      <td>0.898829</td>\n",
       "    </tr>\n",
       "    <tr>\n",
       "      <td>Decision Tree Classifier with Adaboost NearMiss</td>\n",
       "      <td>Decision Tree Classifier with Adaboost NearMiss</td>\n",
       "      <td>{}</td>\n",
       "      <td>1</td>\n",
       "      <td>1</td>\n",
       "      <td>1</td>\n",
       "      <td>1</td>\n",
       "      <td>1</td>\n",
       "    </tr>\n",
       "    <tr>\n",
       "      <td>Random Forest Classifier with Adaboost NearMiss</td>\n",
       "      <td>Random Forest Classifier with Adaboost NearMiss</td>\n",
       "      <td>{'criterion': 'entropy', 'max_depth': 5, 'n_es...</td>\n",
       "      <td>1</td>\n",
       "      <td>1</td>\n",
       "      <td>1</td>\n",
       "      <td>1</td>\n",
       "      <td>1</td>\n",
       "    </tr>\n",
       "  </tbody>\n",
       "</table>\n",
       "</div>"
      ],
      "text/plain": [
       "                                                                                      Model Name  \\\n",
       "Model Name                                                                                         \n",
       "Logistic Regression with Adaboost NearMiss            Logistic Regression with Adaboost NearMiss   \n",
       "Decision Tree Classifier with Adaboost NearMiss  Decision Tree Classifier with Adaboost NearMiss   \n",
       "Random Forest Classifier with Adaboost NearMiss  Random Forest Classifier with Adaboost NearMiss   \n",
       "\n",
       "                                                                                   Model Parameter  \\\n",
       "Model Name                                                                                           \n",
       "Logistic Regression with Adaboost NearMiss                           {'C': 0.001, 'penalty': 'l2'}   \n",
       "Decision Tree Classifier with Adaboost NearMiss                                                 {}   \n",
       "Random Forest Classifier with Adaboost NearMiss  {'criterion': 'entropy', 'max_depth': 5, 'n_es...   \n",
       "\n",
       "                                                Training Score Testing Score  \\\n",
       "Model Name                                                                     \n",
       "Logistic Regression with Adaboost NearMiss            0.876106      0.897959   \n",
       "Decision Tree Classifier with Adaboost NearMiss              1             1   \n",
       "Random Forest Classifier with Adaboost NearMiss              1             1   \n",
       "\n",
       "                                                Exhaustividad        F1  \\\n",
       "Model Name                                                                \n",
       "Logistic Regression with Adaboost NearMiss           0.884615  0.901961   \n",
       "Decision Tree Classifier with Adaboost NearMiss             1         1   \n",
       "Random Forest Classifier with Adaboost NearMiss             1         1   \n",
       "\n",
       "                                                      AUC  \n",
       "Model Name                                                 \n",
       "Logistic Regression with Adaboost NearMiss       0.898829  \n",
       "Decision Tree Classifier with Adaboost NearMiss         1  \n",
       "Random Forest Classifier with Adaboost NearMiss         1  "
      ]
     },
     "execution_count": 53,
     "metadata": {},
     "output_type": "execute_result"
    }
   ],
   "source": [
    "report_table.columns = ['Model Name', 'Model Parameter', 'Training Score', 'Testing Score', \"Exhaustividad\", \"F1\", \"AUC\"]\n",
    "report_table.index = report_table['Model Name']\n",
    "report_table.head(15)"
   ]
  },
  {
   "cell_type": "code",
   "execution_count": 54,
   "metadata": {},
   "outputs": [],
   "source": [
    "# guardamos los resultados\n",
    "report_table.to_csv('Adaboost_With_NearMiss.csv')"
   ]
  },
  {
   "cell_type": "code",
   "execution_count": 55,
   "metadata": {},
   "outputs": [
    {
     "data": {
      "image/png": "[encoded data removed]",
      "text/plain": [
       "<Figure size 576x576 with 1 Axes>"
      ]
     },
     "metadata": {
      "image/png": {
       "height": 684,
       "width": 480
      },
      "needs_background": "light"
     },
     "output_type": "display_data"
    }
   ],
   "source": [
    "ax = report_table[['Model Name', 'Model Parameter', 'Training Score', 'Testing Score', \"Exhaustividad\", \"F1\", \"AUC\"]].plot(kind='bar',\n",
    "            title = \"Comparison of Accuracies of Different Models with Adaboost\", figsize=(8, 8), fontsize = 8)\n",
    "plt.show()"
   ]
  },
  {
   "cell_type": "code",
   "execution_count": null,
   "metadata": {},
   "outputs": [],
   "source": []
  }
 ],
 "metadata": {
  "kernelspec": {
   "display_name": "Python 3",
   "language": "python",
   "name": "python3"
  },
  "language_info": {
   "codemirror_mode": {
    "name": "ipython",
    "version": 3
   },
   "file_extension": ".py",
   "mimetype": "text/x-python",
   "name": "python",
   "nbconvert_exporter": "python",
   "pygments_lexer": "ipython3",
   "version": "3.7.4"
  }
 },
 "nbformat": 4,
 "nbformat_minor": 2
}
