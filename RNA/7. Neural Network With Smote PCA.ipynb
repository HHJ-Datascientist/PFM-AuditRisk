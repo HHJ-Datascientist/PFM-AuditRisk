{
 "cells": [
  {
   "cell_type": "markdown",
   "metadata": {},
   "source": [
    "## Neural Network Model\n",
    "\n",
    "Las redes neuronales artificiales están basadas en el funcionamiento de las redes de neuronas biológicas. Las neuronas que todos tenemos en nuestro cerebro están compuestas de dendritas, el soma y el axón: Las dendritas se encargan de captar los impulsos nerviosos que emiten otras neuronas. Estos impulsos, se procesan en el soma y se transmiten a través del axón que emite un impulso nervioso hacia las neuronas contiguas. \n",
    "\n",
    "En el caso de las neuronas artificiales, la suma de las entradas multiplicadas por sus pesos asociados determina el “impulso nervioso” que recibe la neurona. Este valor, se procesa en el interior de la célula mediante una función de activación que devuelve un valor que se envía como salida de la neurona.\n",
    "\n",
    "Las neuronas de la primera capa reciben como entrada los datos reales que alimentan a la red neuronal.  Es por eso por lo que la primera capa se conoce como capa de entrada. La salida de la última capa es el resultado visible de la red, por lo que la última capa se conoce como la capa de salida. Las capas que se sitúan entre la capa de entrada y la capa de salida se conocen como capas ocultas ya que desconocemos tanto los valores de entrada como los de salida."
   ]
  },
  {
   "cell_type": "code",
   "execution_count": null,
   "metadata": {},
   "outputs": [],
   "source": []
  },
  {
   "cell_type": "code",
   "execution_count": 14,
   "metadata": {},
   "outputs": [
    {
     "name": "stdout",
     "output_type": "stream",
     "text": [
      "Using matplotlib backend: Qt5Agg\n",
      "Populating the interactive namespace from numpy and matplotlib\n"
     ]
    }
   ],
   "source": [
    "# Importamos las librerías necesarias\n",
    "\n",
    "import numpy as np\n",
    "import pandas as pd\n",
    "from sklearn.model_selection import GridSearchCV\n",
    "from sklearn.metrics import accuracy_score, auc, confusion_matrix, f1_score, precision_score, recall_score, roc_curve\n",
    "from sklearn.model_selection import train_test_split\n",
    "from sklearn.preprocessing import MinMaxScaler\n",
    "from keras.models import Sequential\n",
    "from keras.layers import Dense,MaxPooling1D\n",
    "import matplotlib.pyplot as plt\n",
    "import seaborn as sns\n",
    "from sklearn.decomposition import PCA\n",
    "# Representaciones graficas locales\n",
    "\n",
    "%pylab\n",
    "%matplotlib inline\n",
    "\n",
    "%config InlineBackend.figure_format = 'retina'\n",
    "\n",
    "# Obviamos los errores de actualización \n",
    "\n",
    "import warnings\n",
    "warnings.filterwarnings('ignore')\n",
    "import pandas as pd\n",
    "import numpy as np\n",
    "pd.set_option('display.max_columns', 50)\n",
    "\n",
    "\n",
    "# Ponemos la semilla\n",
    "np.random.seed(0)"
   ]
  },
  {
   "cell_type": "code",
   "execution_count": 15,
   "metadata": {},
   "outputs": [],
   "source": [
    "# Importamos la función de limpieza y preprocesado de datos\n",
    "import frauddef # con solo las variables de research"
   ]
  },
  {
   "cell_type": "code",
   "execution_count": 16,
   "metadata": {
    "scrolled": true
   },
   "outputs": [],
   "source": [
    "# Importamos el dataset \n",
    "df = pd.read_csv('Explor_uscecchini28.csv')"
   ]
  },
  {
   "cell_type": "code",
   "execution_count": 17,
   "metadata": {},
   "outputs": [],
   "source": [
    "# Establecemos las variables X e Y\n",
    "X_train_nm, X_test_nm, y_train_nm, y_test_nm, X_train_sm, X_test_sm, y_train_sm, y_test_sm = frauddef.limpieza(df)"
   ]
  },
  {
   "cell_type": "code",
   "execution_count": 18,
   "metadata": {},
   "outputs": [
    {
     "name": "stdout",
     "output_type": "stream",
     "text": [
      "Number of PCA components:  3\n"
     ]
    }
   ],
   "source": [
    "# ajustamos el parametro \"n_components\" que nos a indicar cuantos componentes necesitamos para explicar el 95 % de los datos\n",
    "pca = PCA(n_components=0.95)\n",
    "\n",
    "# hacemos la transofrmación del Train y Test\n",
    "X_train_sm = pca.fit_transform(X_train_sm)\n",
    "X_test_sm = pca.transform(X_test_sm)\n",
    "\n",
    "# Selección del número de n_components\n",
    "print(\"Number of PCA components: \", pca.n_components_)"
   ]
  },
  {
   "cell_type": "code",
   "execution_count": 19,
   "metadata": {},
   "outputs": [],
   "source": [
    "# Inicializar la RNA\n",
    "classifier = Sequential()"
   ]
  },
  {
   "cell_type": "code",
   "execution_count": 20,
   "metadata": {},
   "outputs": [],
   "source": [
    "# Añadir las capas de entrada\n",
    "classifier.add(Dense(units = 50, kernel_initializer = \"uniform\",  \n",
    "                     activation = \"relu\", input_dim = 3))"
   ]
  },
  {
   "cell_type": "code",
   "execution_count": 21,
   "metadata": {},
   "outputs": [],
   "source": [
    "# Añadir la segunda capa oculta\n",
    "classifier.add(Dense(units = 35, kernel_initializer = \"uniform\",  activation = \"relu\"))"
   ]
  },
  {
   "cell_type": "code",
   "execution_count": 22,
   "metadata": {},
   "outputs": [],
   "source": [
    "# Añadir la segunda capa oculta\n",
    "classifier.add(Dense(units = 15, kernel_initializer = \"uniform\",  activation = \"sigmoid\"))"
   ]
  },
  {
   "cell_type": "code",
   "execution_count": 23,
   "metadata": {},
   "outputs": [],
   "source": [
    "# Añadir la tercera capa oculta\n",
    "#classifier.add(Dense(units = 3, kernel_initializer = \"uniform\",  activation = \"sigmoid\"))"
   ]
  },
  {
   "cell_type": "code",
   "execution_count": 24,
   "metadata": {},
   "outputs": [],
   "source": [
    "# Añadir la capa de salida\n",
    "classifier.add(Dense(units = 1, kernel_initializer = \"uniform\",  activation = \"sigmoid\"))"
   ]
  },
  {
   "cell_type": "code",
   "execution_count": 25,
   "metadata": {},
   "outputs": [],
   "source": [
    "# Compilar la RNA\n",
    "classifier.compile(optimizer = \"adam\", loss = \"binary_crossentropy\", metrics = [\"accuracy\"])"
   ]
  },
  {
   "cell_type": "code",
   "execution_count": 26,
   "metadata": {},
   "outputs": [
    {
     "name": "stdout",
     "output_type": "stream",
     "text": [
      "Epoch 1/100\n",
      "8793/8793 [==============================] - 1s 168us/step - loss: 0.6795 - accuracy: 0.5813\n",
      "Epoch 2/100\n",
      "8793/8793 [==============================] - 1s 117us/step - loss: 0.6772 - accuracy: 0.5840\n",
      "Epoch 3/100\n",
      "8793/8793 [==============================] - 1s 116us/step - loss: 0.6772 - accuracy: 0.5844\n",
      "Epoch 4/100\n",
      "8793/8793 [==============================] - 1s 115us/step - loss: 0.6770 - accuracy: 0.5844\n",
      "Epoch 5/100\n",
      "8793/8793 [==============================] - 1s 115us/step - loss: 0.6770 - accuracy: 0.5844\n",
      "Epoch 6/100\n",
      "8793/8793 [==============================] - 1s 115us/step - loss: 0.6771 - accuracy: 0.5844\n",
      "Epoch 7/100\n",
      "8793/8793 [==============================] - 1s 116us/step - loss: 0.6770 - accuracy: 0.5844\n",
      "Epoch 8/100\n",
      "8793/8793 [==============================] - 1s 116us/step - loss: 0.6770 - accuracy: 0.5844\n",
      "Epoch 9/100\n",
      "8793/8793 [==============================] - 1s 117us/step - loss: 0.6771 - accuracy: 0.5844\n",
      "Epoch 10/100\n",
      "8793/8793 [==============================] - 1s 117us/step - loss: 0.6771 - accuracy: 0.5844\n",
      "Epoch 11/100\n",
      "8793/8793 [==============================] - 1s 116us/step - loss: 0.6771 - accuracy: 0.5844\n",
      "Epoch 12/100\n",
      "8793/8793 [==============================] - 1s 118us/step - loss: 0.6771 - accuracy: 0.5844\n",
      "Epoch 13/100\n",
      "8793/8793 [==============================] - 1s 117us/step - loss: 0.6771 - accuracy: 0.5844\n",
      "Epoch 14/100\n",
      "8793/8793 [==============================] - 1s 123us/step - loss: 0.6767 - accuracy: 0.5844\n",
      "Epoch 15/100\n",
      "8793/8793 [==============================] - 1s 115us/step - loss: 0.6770 - accuracy: 0.5844\n",
      "Epoch 16/100\n",
      "8793/8793 [==============================] - 1s 125us/step - loss: 0.6771 - accuracy: 0.5844\n",
      "Epoch 17/100\n",
      "8793/8793 [==============================] - 1s 115us/step - loss: 0.6770 - accuracy: 0.5844\n",
      "Epoch 18/100\n",
      "8793/8793 [==============================] - 1s 115us/step - loss: 0.6770 - accuracy: 0.5844\n",
      "Epoch 19/100\n",
      "8793/8793 [==============================] - 1s 116us/step - loss: 0.6769 - accuracy: 0.5844\n",
      "Epoch 20/100\n",
      "8793/8793 [==============================] - 1s 117us/step - loss: 0.6772 - accuracy: 0.5844\n",
      "Epoch 21/100\n",
      "8793/8793 [==============================] - 1s 115us/step - loss: 0.6772 - accuracy: 0.5844\n",
      "Epoch 22/100\n",
      "8793/8793 [==============================] - 1s 116us/step - loss: 0.6768 - accuracy: 0.5844\n",
      "Epoch 23/100\n",
      "8793/8793 [==============================] - 1s 116us/step - loss: 0.6771 - accuracy: 0.5844\n",
      "Epoch 24/100\n",
      "8793/8793 [==============================] - 1s 117us/step - loss: 0.6771 - accuracy: 0.5844\n",
      "Epoch 25/100\n",
      "8793/8793 [==============================] - 1s 117us/step - loss: 0.6771 - accuracy: 0.5844\n",
      "Epoch 26/100\n",
      "8793/8793 [==============================] - 1s 115us/step - loss: 0.6770 - accuracy: 0.5844\n",
      "Epoch 27/100\n",
      "8793/8793 [==============================] - 1s 116us/step - loss: 0.6771 - accuracy: 0.5844\n",
      "Epoch 28/100\n",
      "8793/8793 [==============================] - 1s 118us/step - loss: 0.6771 - accuracy: 0.5844\n",
      "Epoch 29/100\n",
      "8793/8793 [==============================] - 1s 117us/step - loss: 0.6771 - accuracy: 0.5844\n",
      "Epoch 30/100\n",
      "8793/8793 [==============================] - 1s 118us/step - loss: 0.6771 - accuracy: 0.5844\n",
      "Epoch 31/100\n",
      "8793/8793 [==============================] - 1s 120us/step - loss: 0.6770 - accuracy: 0.5844\n",
      "Epoch 32/100\n",
      "8793/8793 [==============================] - 1s 122us/step - loss: 0.6771 - accuracy: 0.5844\n",
      "Epoch 33/100\n",
      "8793/8793 [==============================] - 1s 123us/step - loss: 0.6770 - accuracy: 0.5844\n",
      "Epoch 34/100\n",
      "8793/8793 [==============================] - 1s 119us/step - loss: 0.6769 - accuracy: 0.5844\n",
      "Epoch 35/100\n",
      "8793/8793 [==============================] - 1s 119us/step - loss: 0.6771 - accuracy: 0.5844\n",
      "Epoch 36/100\n",
      "8793/8793 [==============================] - 1s 120us/step - loss: 0.6770 - accuracy: 0.5844\n",
      "Epoch 37/100\n",
      "8793/8793 [==============================] - 1s 120us/step - loss: 0.6768 - accuracy: 0.5844\n",
      "Epoch 38/100\n",
      "8793/8793 [==============================] - 1s 118us/step - loss: 0.6773 - accuracy: 0.5844\n",
      "Epoch 39/100\n",
      "8793/8793 [==============================] - 1s 118us/step - loss: 0.6770 - accuracy: 0.5844\n",
      "Epoch 40/100\n",
      "8793/8793 [==============================] - 1s 124us/step - loss: 0.6772 - accuracy: 0.5844\n",
      "Epoch 41/100\n",
      "8793/8793 [==============================] - 1s 119us/step - loss: 0.6768 - accuracy: 0.5844\n",
      "Epoch 42/100\n",
      "8793/8793 [==============================] - 1s 120us/step - loss: 0.6768 - accuracy: 0.5844\n",
      "Epoch 43/100\n",
      "8793/8793 [==============================] - 1s 117us/step - loss: 0.6772 - accuracy: 0.5844\n",
      "Epoch 44/100\n",
      "8793/8793 [==============================] - 1s 120us/step - loss: 0.6771 - accuracy: 0.5844\n",
      "Epoch 45/100\n",
      "8793/8793 [==============================] - 1s 119us/step - loss: 0.6770 - accuracy: 0.5844\n",
      "Epoch 46/100\n",
      "8793/8793 [==============================] - 1s 118us/step - loss: 0.6769 - accuracy: 0.5844\n",
      "Epoch 47/100\n",
      "8793/8793 [==============================] - 1s 117us/step - loss: 0.6769 - accuracy: 0.5844\n",
      "Epoch 48/100\n",
      "8793/8793 [==============================] - 1s 123us/step - loss: 0.6766 - accuracy: 0.5844\n",
      "Epoch 49/100\n",
      "8793/8793 [==============================] - 1s 125us/step - loss: 0.6770 - accuracy: 0.5844\n",
      "Epoch 50/100\n",
      "8793/8793 [==============================] - 1s 119us/step - loss: 0.6770 - accuracy: 0.5844\n",
      "Epoch 51/100\n",
      "8793/8793 [==============================] - 1s 117us/step - loss: 0.6771 - accuracy: 0.5844\n",
      "Epoch 52/100\n",
      "8793/8793 [==============================] - 1s 118us/step - loss: 0.6771 - accuracy: 0.5844\n",
      "Epoch 53/100\n",
      "8793/8793 [==============================] - 1s 114us/step - loss: 0.6771 - accuracy: 0.5844\n",
      "Epoch 54/100\n",
      "8793/8793 [==============================] - 1s 123us/step - loss: 0.6770 - accuracy: 0.5844\n",
      "Epoch 55/100\n",
      "8793/8793 [==============================] - 1s 122us/step - loss: 0.6771 - accuracy: 0.5844\n",
      "Epoch 56/100\n",
      "8793/8793 [==============================] - 1s 126us/step - loss: 0.6771 - accuracy: 0.5844\n",
      "Epoch 57/100\n",
      "8793/8793 [==============================] - 1s 121us/step - loss: 0.6768 - accuracy: 0.5844\n",
      "Epoch 58/100\n",
      "8793/8793 [==============================] - 1s 118us/step - loss: 0.6771 - accuracy: 0.5844\n",
      "Epoch 59/100\n",
      "8793/8793 [==============================] - 1s 119us/step - loss: 0.6772 - accuracy: 0.5844\n",
      "Epoch 60/100\n",
      "8793/8793 [==============================] - 1s 119us/step - loss: 0.6770 - accuracy: 0.5844\n",
      "Epoch 61/100\n",
      "8793/8793 [==============================] - 1s 117us/step - loss: 0.6771 - accuracy: 0.5844\n",
      "Epoch 62/100\n",
      "8793/8793 [==============================] - 1s 117us/step - loss: 0.6771 - accuracy: 0.5844\n",
      "Epoch 63/100\n",
      "8793/8793 [==============================] - 1s 117us/step - loss: 0.6769 - accuracy: 0.5844\n",
      "Epoch 64/100\n",
      "8793/8793 [==============================] - 1s 118us/step - loss: 0.6769 - accuracy: 0.5844\n",
      "Epoch 65/100\n",
      "8793/8793 [==============================] - 1s 116us/step - loss: 0.6771 - accuracy: 0.5844\n",
      "Epoch 66/100\n",
      "8793/8793 [==============================] - 1s 116us/step - loss: 0.6771 - accuracy: 0.5844\n",
      "Epoch 67/100\n",
      "8793/8793 [==============================] - 1s 118us/step - loss: 0.6765 - accuracy: 0.5844\n",
      "Epoch 68/100\n",
      "8793/8793 [==============================] - 1s 117us/step - loss: 0.6773 - accuracy: 0.5844\n",
      "Epoch 69/100\n",
      "8793/8793 [==============================] - 1s 117us/step - loss: 0.6770 - accuracy: 0.5844\n",
      "Epoch 70/100\n",
      "8793/8793 [==============================] - 1s 117us/step - loss: 0.6771 - accuracy: 0.5844\n",
      "Epoch 71/100\n",
      "8793/8793 [==============================] - 1s 119us/step - loss: 0.6769 - accuracy: 0.5844\n",
      "Epoch 72/100\n",
      "8793/8793 [==============================] - 1s 117us/step - loss: 0.6771 - accuracy: 0.5844\n",
      "Epoch 73/100\n",
      "8793/8793 [==============================] - 1s 117us/step - loss: 0.6770 - accuracy: 0.5844\n",
      "Epoch 74/100\n",
      "8793/8793 [==============================] - 1s 116us/step - loss: 0.6771 - accuracy: 0.5844\n",
      "Epoch 75/100\n",
      "8793/8793 [==============================] - 1s 116us/step - loss: 0.6771 - accuracy: 0.5844\n",
      "Epoch 76/100\n",
      "8793/8793 [==============================] - 1s 119us/step - loss: 0.6771 - accuracy: 0.5844\n",
      "Epoch 77/100\n",
      "8793/8793 [==============================] - 1s 118us/step - loss: 0.6772 - accuracy: 0.5844\n",
      "Epoch 78/100\n",
      "8793/8793 [==============================] - 1s 115us/step - loss: 0.6771 - accuracy: 0.5844\n",
      "Epoch 79/100\n",
      "8793/8793 [==============================] - 1s 116us/step - loss: 0.6771 - accuracy: 0.5844\n",
      "Epoch 80/100\n",
      "8793/8793 [==============================] - 1s 114us/step - loss: 0.6771 - accuracy: 0.5844\n",
      "Epoch 81/100\n",
      "8793/8793 [==============================] - 1s 114us/step - loss: 0.6769 - accuracy: 0.5844\n",
      "Epoch 82/100\n",
      "8793/8793 [==============================] - 1s 114us/step - loss: 0.6773 - accuracy: 0.5844\n",
      "Epoch 83/100\n",
      "8793/8793 [==============================] - 1s 114us/step - loss: 0.6772 - accuracy: 0.5844\n",
      "Epoch 84/100\n",
      "8793/8793 [==============================] - 1s 114us/step - loss: 0.6766 - accuracy: 0.5844\n",
      "Epoch 85/100\n",
      "8793/8793 [==============================] - 1s 114us/step - loss: 0.6771 - accuracy: 0.5844\n",
      "Epoch 86/100\n",
      "8793/8793 [==============================] - 1s 113us/step - loss: 0.6771 - accuracy: 0.5844\n",
      "Epoch 87/100\n",
      "8793/8793 [==============================] - 1s 114us/step - loss: 0.6772 - accuracy: 0.5844\n",
      "Epoch 88/100\n",
      "8793/8793 [==============================] - 1s 113us/step - loss: 0.6767 - accuracy: 0.5844\n",
      "Epoch 89/100\n",
      "8793/8793 [==============================] - 1s 115us/step - loss: 0.6770 - accuracy: 0.5844\n",
      "Epoch 90/100\n",
      "8793/8793 [==============================] - 1s 114us/step - loss: 0.6770 - accuracy: 0.5844\n",
      "Epoch 91/100\n",
      "8793/8793 [==============================] - 1s 114us/step - loss: 0.6769 - accuracy: 0.5844\n",
      "Epoch 92/100\n",
      "8793/8793 [==============================] - 1s 115us/step - loss: 0.6770 - accuracy: 0.5844\n",
      "Epoch 93/100\n",
      "8793/8793 [==============================] - 1s 117us/step - loss: 0.6769 - accuracy: 0.5844\n",
      "Epoch 94/100\n",
      "8793/8793 [==============================] - 1s 117us/step - loss: 0.6772 - accuracy: 0.5844\n",
      "Epoch 95/100\n",
      "8793/8793 [==============================] - 1s 116us/step - loss: 0.6769 - accuracy: 0.5844\n",
      "Epoch 96/100\n",
      "8793/8793 [==============================] - 1s 114us/step - loss: 0.6772 - accuracy: 0.5844\n",
      "Epoch 97/100\n",
      "8793/8793 [==============================] - 1s 114us/step - loss: 0.6770 - accuracy: 0.5844\n",
      "Epoch 98/100\n",
      "8793/8793 [==============================] - 1s 114us/step - loss: 0.6770 - accuracy: 0.5844\n",
      "Epoch 99/100\n",
      "8793/8793 [==============================] - 1s 116us/step - loss: 0.6766 - accuracy: 0.5844\n",
      "Epoch 100/100\n",
      "8793/8793 [==============================] - 1s 117us/step - loss: 0.6770 - accuracy: 0.5844\n"
     ]
    },
    {
     "data": {
      "text/plain": [
       "<keras.callbacks.callbacks.History at 0x10cf8fdb588>"
      ]
     },
     "execution_count": 26,
     "metadata": {},
     "output_type": "execute_result"
    }
   ],
   "source": [
    "# Ajustamos la RNA al Conjunto de Entrenamiento\n",
    "classifier.fit(X_train_sm, y_train_sm,  batch_size = 10, epochs = 100)"
   ]
  },
  {
   "cell_type": "code",
   "execution_count": 27,
   "metadata": {},
   "outputs": [
    {
     "name": "stdout",
     "output_type": "stream",
     "text": [
      "Model: \"sequential_2\"\n",
      "_________________________________________________________________\n",
      "Layer (type)                 Output Shape              Param #   \n",
      "=================================================================\n",
      "dense_5 (Dense)              (None, 50)                200       \n",
      "_________________________________________________________________\n",
      "dense_6 (Dense)              (None, 35)                1785      \n",
      "_________________________________________________________________\n",
      "dense_7 (Dense)              (None, 15)                540       \n",
      "_________________________________________________________________\n",
      "dense_8 (Dense)              (None, 1)                 16        \n",
      "=================================================================\n",
      "Total params: 2,541\n",
      "Trainable params: 2,541\n",
      "Non-trainable params: 0\n",
      "_________________________________________________________________\n"
     ]
    }
   ],
   "source": [
    "# Una vez que se \"construye\" un modelo, puede llamar a su summary() método para mostrar su contenido:\n",
    "classifier.summary()"
   ]
  },
  {
   "cell_type": "code",
   "execution_count": 28,
   "metadata": {},
   "outputs": [
    {
     "data": {
      "image/png": "[encoded data removed]",
      "text/plain": [
       "<Figure size 504x360 with 2 Axes>"
      ]
     },
     "metadata": {
      "image/png": {
       "height": 331,
       "width": 422
      },
      "needs_background": "light"
     },
     "output_type": "display_data"
    }
   ],
   "source": [
    "# Parte 3 - Evaluar el modelo y calcular predicciones finales\n",
    "\n",
    "# Predicción de los resultados con el Conjunto de Testing\n",
    "y_pred  = classifier.predict(X_test_sm)\n",
    "# Establecemos el acierto en el 95 %\n",
    "y_pred = (y_pred>0.95)\n",
    "# Elaborar una matriz de confusión\n",
    "from sklearn.metrics import accuracy_score, auc, confusion_matrix, f1_score, precision_score, recall_score, roc_curve, roc_auc_score\n",
    "cm = confusion_matrix(y_test_sm, y_pred)\n",
    "false_positive_rate, recall, thresholds = roc_curve(y_test_sm, y_pred) # el area bajo la curva\n",
    "# representar la matriz de confusión\n",
    "plt.figure(figsize=(7,5))\n",
    "sns.heatmap(cm,  cmap= 'Blues', annot=True, fmt='3')\n",
    "plt.xlabel('predicted')\n",
    "plt.ylabel('actual')\n",
    "plt.title('Confusion Matrix')\n",
    "plt.show()"
   ]
  },
  {
   "cell_type": "code",
   "execution_count": 29,
   "metadata": {},
   "outputs": [
    {
     "data": {
      "text/plain": [
       "0.49005041124966836"
      ]
     },
     "execution_count": 29,
     "metadata": {},
     "output_type": "execute_result"
    }
   ],
   "source": [
    "# accuracy\n",
    "accuracy_score(y_test_sm, y_pred)"
   ]
  },
  {
   "cell_type": "code",
   "execution_count": 30,
   "metadata": {},
   "outputs": [
    {
     "data": {
      "text/plain": [
       "0.0"
      ]
     },
     "execution_count": 30,
     "metadata": {},
     "output_type": "execute_result"
    }
   ],
   "source": [
    "# F1\n",
    "f1_score(y_test_sm, y_pred)"
   ]
  },
  {
   "cell_type": "code",
   "execution_count": 31,
   "metadata": {},
   "outputs": [
    {
     "data": {
      "text/plain": [
       "0.5"
      ]
     },
     "execution_count": 31,
     "metadata": {},
     "output_type": "execute_result"
    }
   ],
   "source": [
    "# AUC\n",
    "roc_auc_score(y_test_sm, y_pred)"
   ]
  },
  {
   "cell_type": "code",
   "execution_count": null,
   "metadata": {},
   "outputs": [],
   "source": []
  }
 ],
 "metadata": {
  "kernelspec": {
   "display_name": "Python 3",
   "language": "python",
   "name": "python3"
  },
  "language_info": {
   "codemirror_mode": {
    "name": "ipython",
    "version": 3
   },
   "file_extension": ".py",
   "mimetype": "text/x-python",
   "name": "python",
   "nbconvert_exporter": "python",
   "pygments_lexer": "ipython3",
   "version": "3.7.4"
  }
 },
 "nbformat": 4,
 "nbformat_minor": 2
}
